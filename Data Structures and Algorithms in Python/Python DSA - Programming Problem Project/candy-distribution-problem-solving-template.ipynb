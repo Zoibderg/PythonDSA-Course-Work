{
 "cells": [
  {
   "cell_type": "markdown",
   "id": "5f39ea40",
   "metadata": {},
   "source": [
    "# Candy\n",
    "\n"
   ]
  },
  {
   "cell_type": "code",
   "execution_count": 97,
   "id": "64a55cac",
   "metadata": {},
   "outputs": [],
   "source": [
    "project_name, filename = 'candy-distribution', 'candy-distribution-problem-solving-template.ipynb'"
   ]
  },
  {
   "cell_type": "code",
   "execution_count": 98,
   "id": "55aaf6f3",
   "metadata": {},
   "outputs": [
    {
     "name": "stdout",
     "output_type": "stream",
     "text": [
      "Note: you may need to restart the kernel to use updated packages.\n"
     ]
    }
   ],
   "source": [
    "%pip install jovian --upgrade --quiet"
   ]
  },
  {
   "cell_type": "code",
   "execution_count": 99,
   "id": "8062f873",
   "metadata": {},
   "outputs": [],
   "source": [
    "import jovian"
   ]
  },
  {
   "cell_type": "code",
   "execution_count": 100,
   "id": "2659775f",
   "metadata": {},
   "outputs": [],
   "source": [
    "# jovian.commit(project=project_name, filename=filename)"
   ]
  },
  {
   "cell_type": "markdown",
   "id": "ca99e0cb",
   "metadata": {},
   "source": [
    "## Problem Statement\n",
    "\n",
    "There are n children standing in a line. Each child is assigned a rating value given in the integer array ratings.\n",
    "\n",
    "You are giving candies to these children subjected to the following requirements:\n",
    "\n",
    "Each child must have at least one candy.\n",
    "Children with a higher rating get more candies than their neighbors.\n",
    "Return the minimum number of candies you need to have to distribute the candies to the children.\n",
    "\n",
    "### Example 1:\n",
    "\n",
    ">` Input: ratings = [1,0,2] `\n",
    "<br>\n",
    ">` Output: 5 `\n",
    "<br>\n",
    ">`Explanation: You can allocate to the first, second and third child with 2, 1, 2 candies respectively. `\n",
    "<br>\n",
    "\n",
    "### Example 2:\n",
    "\n",
    "> `Input: ratings = [1,2,2]`\n",
    "<br>\n",
    "> `Output: 4`\n",
    "<br>\n",
    "> `Explanation: You can allocate to the first, second and third child with 1, 2, 1 candies respectively.\n",
    "> The third child gets 1 candy because it satisfies the above two conditions.`\n",
    "\n",
    "### Constraints:\n",
    "\n",
    "> `n == ratings.length`\n",
    "<br>\n",
    "> `1 <= n <= 2 * 104`\n",
    "<br>\n",
    "> `0 <= ratings[i] <= 2 * 104`\n",
    "\n",
    "Source: https://leetcode.com/problems/candy/"
   ]
  },
  {
   "cell_type": "markdown",
   "id": "9c8db804",
   "metadata": {},
   "source": [
    "## The Method\n",
    "\n",
    "Here's the systematic strategy we'll apply for solving problems:\n",
    "\n",
    "1. State the problem clearly. Identify the input & output formats.\n",
    "2. Come up with some example inputs & outputs. Try to cover all edge cases.\n",
    "3. Come up with a correct solution for the problem. State it in plain English.\n",
    "4. Implement the solution and test it using example inputs. Fix bugs, if any.\n",
    "5. Analyze the algorithm's complexity and identify inefficiencies, if any.\n",
    "6. Apply the right technique to overcome the inefficiency. Repeat steps 3 to 6.\n",
    "\n",
    "This approach is explained in detail in [Lesson 1](https://jovian.ai/learn/data-structures-and-algorithms-in-python/lesson/lesson-1-binary-search-linked-lists-and-complexity) of the course. Let's apply this approach step-by-step."
   ]
  },
  {
   "cell_type": "markdown",
   "id": "95f5eb8d",
   "metadata": {},
   "source": [
    "## Solution\n",
    "\n",
    "\n",
    "### 1. State the problem clearly. Identify the input & output formats.\n",
    "\n",
    "While this problem is stated clearly enough, it's always useful to try and express in your own words, in a way that makes it most clear for you. \n",
    "\n",
    "\n",
    "### Problem\n",
    "\n",
    "**We have a line of children that we are distributing candy to based on their ratings. Every child must get at least on piece of candy, but children with higher ratings shall get more candy than their neighbors. We need to find the lest amount of candies that we will need to give candies to all children.**\n",
    "\n",
    "<br/>\n",
    "\n",
    "\n",
    "**Input**\n",
    "\n",
    "1. **ratings** - A list of ints representing childrens ratings. e.g. `[2, 4, 6, 3, 9]`\n",
    "\n",
    "\n",
    "**Output**\n",
    "\n",
    "1. **min_candies** - The min amout of candies that we will need to give all children candies.\n",
    "\n",
    "\n",
    "<br/>\n",
    "\n",
    "Based on the above, we can now create a signature of our function:"
   ]
  },
  {
   "cell_type": "code",
   "execution_count": 101,
   "id": "d8ecc3c8",
   "metadata": {},
   "outputs": [],
   "source": [
    "def candy_distribution(ratings):\n",
    "    pass"
   ]
  },
  {
   "cell_type": "markdown",
   "id": "06b230de",
   "metadata": {},
   "source": [
    "Save and upload your work before continuing."
   ]
  },
  {
   "cell_type": "code",
   "execution_count": 102,
   "id": "98f1a057",
   "metadata": {},
   "outputs": [],
   "source": [
    "import jovian"
   ]
  },
  {
   "cell_type": "code",
   "execution_count": 103,
   "id": "605ee473",
   "metadata": {},
   "outputs": [],
   "source": [
    "# jovian.commit(project=project_name, filename=filename)"
   ]
  },
  {
   "cell_type": "markdown",
   "id": "31673b31",
   "metadata": {},
   "source": [
    "### 2. Come up with some example inputs & outputs. Try to cover all edge cases.\n",
    "\n",
    "Our function should be able to handle any set of valid inputs we pass into it. Here's a list of some possible variations we might encounter:\n",
    "\n",
    "1. **A list with no ratings.**\n",
    "2. **A list with nubmers that are not unique.**\n",
    "3. **A list in acending order.**\n",
    "4. **A list in decending order.**\n",
    "5. **A list in a random order.**\n",
    "7. **A list with all unique numbers.**\n",
    "8. **A list with a large amout of ratings.**\n",
    "\n",
    "\n",
    "\n",
    "\n",
    "We'll express our test cases as dictionaries, to test them easily. Each dictionary will contain 2 keys: `input` (a dictionary itself containing one key for each argument to the function and `output` (the expected result from the function). "
   ]
  },
  {
   "cell_type": "code",
   "execution_count": 104,
   "id": "713aa89c",
   "metadata": {},
   "outputs": [],
   "source": [
    "# a list with no ratings\n",
    "test0 = {\n",
    "    'input': {\n",
    "        'ratings': []\n",
    "    },\n",
    "    'output': 0\n",
    "}"
   ]
  },
  {
   "cell_type": "markdown",
   "id": "1725ca50",
   "metadata": {},
   "source": [
    "Create one test case for each of the scenarios listed above. We'll store our test cases in an array called `tests`."
   ]
  },
  {
   "cell_type": "code",
   "execution_count": 105,
   "id": "62a176c2",
   "metadata": {},
   "outputs": [],
   "source": [
    "tests = []"
   ]
  },
  {
   "cell_type": "code",
   "execution_count": 106,
   "id": "565c0f85",
   "metadata": {},
   "outputs": [],
   "source": [
    "tests.append(test0)"
   ]
  },
  {
   "cell_type": "code",
   "execution_count": 107,
   "id": "24aca8e9",
   "metadata": {},
   "outputs": [],
   "source": [
    "# a list with numbers that are not unique.\n",
    "test1 =({\n",
    "    'input': {\n",
    "        'ratings': [3, 3, 5, 5]\n",
    "    },\n",
    "    'output': 5\n",
    "})"
   ]
  },
  {
   "cell_type": "code",
   "execution_count": 108,
   "id": "e206584c",
   "metadata": {},
   "outputs": [],
   "source": [
    "# a list in acending order\n",
    "test2 = ({\n",
    "    'input': {\n",
    "        'ratings': [1, 2, 3, 4, 5]\n",
    "    },\n",
    "    'output': 15\n",
    "})"
   ]
  },
  {
   "cell_type": "code",
   "execution_count": 109,
   "id": "6e9f49e9",
   "metadata": {},
   "outputs": [],
   "source": [
    "# a list in decending order\n",
    "test3 = ({\n",
    "    'input': {\n",
    "        'ratings': [5, 4, 3, 2, 1]\n",
    "    },\n",
    "    'output': 15\n",
    "})"
   ]
  },
  {
   "cell_type": "code",
   "execution_count": 110,
   "id": "391567c1",
   "metadata": {},
   "outputs": [],
   "source": [
    "# general test cases\n",
    "test4 = ({\n",
    "    'input': {\n",
    "        'ratings': [1, 0, 2]\n",
    "    },\n",
    "    'output': 5\n",
    "})"
   ]
  },
  {
   "cell_type": "code",
   "execution_count": 111,
   "id": "a0fcbedb",
   "metadata": {},
   "outputs": [],
   "source": [
    "test5 = ({\n",
    "    'input': {\n",
    "        'ratings': [1, 2, 2]\n",
    "    },\n",
    "    'output': 4\n",
    "})"
   ]
  },
  {
   "cell_type": "code",
   "execution_count": 112,
   "id": "2eccdf84",
   "metadata": {},
   "outputs": [],
   "source": [
    "tests = [test0, test1, test2, test3, test4, test5]"
   ]
  },
  {
   "cell_type": "markdown",
   "id": "40713b18",
   "metadata": {},
   "source": [
    "### 3. Come up with a correct solution for the problem. State it in plain English.\n",
    "\n",
    "Our first goal should always be to come up with a _correct_ solution to the problem, which may not necessarily be the most _efficient_ solution. Come with a correct solution and explain it in simple words below:\n",
    "\n",
    "1. Create our canides list - **`[1] * len(ratings)`**\n",
    "    1. We fill the list with ones as every child my get at lest one candy\n",
    "2. Check if the current child has a higher rating than the last child - **`if child > ratings[idx - 1]`**\n",
    "    1. If the rating is higer, check if the current child has more candies than the last child - **`candies[idx] <= candies[idx - 1]`**\n",
    "        1. If it is, give current child one more candy than the last - **`candies[idx] = candies[idx - 1] + 1`**\n",
    "3. If there is a child ahead of the current child, and the current child has a higher rating - **`child > ratings[idx + 1]`**\n",
    "    1. Give the current child 1 more candie than than its neighbor with the most canides - **`candies[idx] = max(canides[idx - 1], candies[idx + 1]) + 1`**\n",
    "4. Return the sum of all candies given to children.\n"
   ]
  },
  {
   "cell_type": "code",
   "execution_count": 113,
   "id": "dd796ae8",
   "metadata": {},
   "outputs": [],
   "source": [
    "# jovian.commit(project=project_name, filename=filename)"
   ]
  },
  {
   "cell_type": "markdown",
   "id": "d9f9c154",
   "metadata": {},
   "source": [
    "###  4. Implement the solution and test it using example inputs. Fix bugs, if any."
   ]
  },
  {
   "cell_type": "code",
   "execution_count": 114,
   "id": "b63a2733",
   "metadata": {},
   "outputs": [],
   "source": [
    "def brute_candy_distribution(ratings):\n",
    "    candies = [1] * len(ratings)\n",
    "\n",
    "    for idx, child in enumerate(ratings):\n",
    "\n",
    "        if child > ratings[idx - 1] and candies[idx] <= candies[idx - 1]:\n",
    "            candies[idx] = candies[idx - 1] + 1\n",
    "        if idx < len(ratings) - 1 and child > ratings[idx + 1]:\n",
    "            candies[idx] = max(candies[idx - 1], candies[idx + 1]) + 1\n",
    "\n",
    "    return sum(candies)"
   ]
  },
  {
   "cell_type": "code",
   "execution_count": 115,
   "id": "bf98a759",
   "metadata": {},
   "outputs": [],
   "source": [
    "from jovian.pythondsa import evaluate_test_case, evaluate_test_cases"
   ]
  },
  {
   "cell_type": "code",
   "execution_count": 116,
   "id": "53ca192e",
   "metadata": {},
   "outputs": [
    {
     "data": {
      "text/plain": [
       "13"
      ]
     },
     "execution_count": 116,
     "metadata": {},
     "output_type": "execute_result"
    }
   ],
   "source": [
    "brute_candy_distribution([1, 2, 87, 87, 87, 2, 1])"
   ]
  },
  {
   "cell_type": "code",
   "execution_count": 117,
   "id": "fc01abdb",
   "metadata": {},
   "outputs": [
    {
     "name": "stdout",
     "output_type": "stream",
     "text": [
      "\n",
      "\u001b[1mTEST CASE #0\u001b[0m\n",
      "\n",
      "Input:\n",
      "{'ratings': []}\n",
      "\n",
      "Expected Output:\n",
      "0\n",
      "\n",
      "\n",
      "Actual Output:\n",
      "0\n",
      "\n",
      "Execution Time:\n",
      "0.006 ms\n",
      "\n",
      "Test Result:\n",
      "\u001b[92mPASSED\u001b[0m\n",
      "\n",
      "\n",
      "\u001b[1mTEST CASE #1\u001b[0m\n",
      "\n",
      "Input:\n",
      "{'ratings': [3, 3, 5, 5]}\n",
      "\n",
      "Expected Output:\n",
      "5\n",
      "\n",
      "\n",
      "Actual Output:\n",
      "5\n",
      "\n",
      "Execution Time:\n",
      "0.008 ms\n",
      "\n",
      "Test Result:\n",
      "\u001b[92mPASSED\u001b[0m\n",
      "\n",
      "\n",
      "\u001b[1mTEST CASE #2\u001b[0m\n",
      "\n",
      "Input:\n",
      "{'ratings': [1, 2, 3, 4, 5]}\n",
      "\n",
      "Expected Output:\n",
      "15\n",
      "\n",
      "\n",
      "Actual Output:\n",
      "15\n",
      "\n",
      "Execution Time:\n",
      "0.008 ms\n",
      "\n",
      "Test Result:\n",
      "\u001b[92mPASSED\u001b[0m\n",
      "\n",
      "\n",
      "\u001b[1mTEST CASE #3\u001b[0m\n",
      "\n",
      "Input:\n",
      "{'ratings': [5, 4, 3, 2, 1]}\n",
      "\n",
      "Expected Output:\n",
      "15\n",
      "\n",
      "\n",
      "Actual Output:\n",
      "15\n",
      "\n",
      "Execution Time:\n",
      "0.008 ms\n",
      "\n",
      "Test Result:\n",
      "\u001b[92mPASSED\u001b[0m\n",
      "\n",
      "\n",
      "\u001b[1mTEST CASE #4\u001b[0m\n",
      "\n",
      "Input:\n",
      "{'ratings': [1, 0, 2]}\n",
      "\n",
      "Expected Output:\n",
      "5\n",
      "\n",
      "\n",
      "Actual Output:\n",
      "5\n",
      "\n",
      "Execution Time:\n",
      "0.006 ms\n",
      "\n",
      "Test Result:\n",
      "\u001b[92mPASSED\u001b[0m\n",
      "\n",
      "\n",
      "\u001b[1mTEST CASE #5\u001b[0m\n",
      "\n",
      "Input:\n",
      "{'ratings': [1, 2, 2]}\n",
      "\n",
      "Expected Output:\n",
      "4\n",
      "\n",
      "\n",
      "Actual Output:\n",
      "4\n",
      "\n",
      "Execution Time:\n",
      "0.009 ms\n",
      "\n",
      "Test Result:\n",
      "\u001b[92mPASSED\u001b[0m\n",
      "\n",
      "\n",
      "\u001b[1mSUMMARY\u001b[0m\n",
      "\n",
      "TOTAL: 6, \u001b[92mPASSED\u001b[0m: 6, \u001b[91mFAILED\u001b[0m: 0\n"
     ]
    },
    {
     "data": {
      "text/plain": [
       "[(0, True, 0.006),\n",
       " (5, True, 0.008),\n",
       " (15, True, 0.008),\n",
       " (15, True, 0.008),\n",
       " (5, True, 0.006),\n",
       " (4, True, 0.009)]"
      ]
     },
     "execution_count": 117,
     "metadata": {},
     "output_type": "execute_result"
    }
   ],
   "source": [
    "evaluate_test_cases(brute_candy_distribution, tests)"
   ]
  },
  {
   "cell_type": "code",
   "execution_count": 118,
   "id": "3cff5b65",
   "metadata": {},
   "outputs": [],
   "source": [
    "# jovian.commit(project=project_name, filename=filename)"
   ]
  },
  {
   "cell_type": "markdown",
   "id": "04b9887f",
   "metadata": {},
   "source": [
    "### 5. Analyze the algorithm's complexity and identify inefficiencies, if any."
   ]
  },
  {
   "cell_type": "markdown",
   "id": "f6dba733",
   "metadata": {},
   "source": [
    "### Time Complexity - $O(N^2)$\n",
    "\n",
    "- Out brute force method will have a time complexity of $O(N^2)$; this is because we will need to traverse through the list **`n`** times and at each child in the list we must make 2 checks, giving this algorithm a quadratic time complexity."
   ]
  },
  {
   "cell_type": "code",
   "execution_count": 119,
   "id": "e8f990ac",
   "metadata": {},
   "outputs": [],
   "source": [
    "# jovian.commit(project=project_name, filename=filename)"
   ]
  },
  {
   "cell_type": "markdown",
   "id": "8088e702",
   "metadata": {},
   "source": [
    "### 6. Apply the right technique to overcome the inefficiency. Repeat steps 3 to 6."
   ]
  },
  {
   "cell_type": "markdown",
   "id": "830a0891",
   "metadata": {},
   "source": [
    "Reduce the amout of checks that we make when we traverse through the list"
   ]
  },
  {
   "cell_type": "markdown",
   "id": "4be76198",
   "metadata": {},
   "source": [
    "### 7. Come up with a correct solution for the problem. State it in plain English.\n",
    "\n",
    "Come with the optimized correct solution and explain it in simple words below:\n",
    "\n",
    "1. Create 2 candies lists to track the cadies that we a giving children - **`candies_l2r/r2l = [1] * len(ratings)`**\n",
    "2. Traverse through our R2L list, if the current rating is higher than the next, give the current child 1 more candy than the next.\n",
    "3. Traverse through our L3R list, if the current rating is higher than the next, give the current child 1 more candy than the next.\n",
    "4. For each rating in both lists, take the max of the candies that were given. \n",
    "5. Return the sum of candies given.\n"
   ]
  },
  {
   "cell_type": "code",
   "execution_count": 120,
   "id": "986da128",
   "metadata": {},
   "outputs": [],
   "source": [
    "# jovian.commit(project=project_name, filename=filename)"
   ]
  },
  {
   "cell_type": "markdown",
   "id": "98af8600",
   "metadata": {},
   "source": [
    "### 8. Implement the solution and test it using example inputs. Fix bugs, if any."
   ]
  },
  {
   "cell_type": "code",
   "execution_count": 121,
   "id": "4bb14f0a",
   "metadata": {},
   "outputs": [],
   "source": [
    "def candy_distribution(ratings):\n",
    "    candies_l2r = [1] * len(ratings)\n",
    "    candies_r2l = [1] * len(ratings)\n",
    "    reverse = list(reversed(ratings))\n",
    "\n",
    "    for idx, rating in enumerate(ratings):\n",
    "        if idx < len(ratings) - 1 and rating < ratings[idx + 1]:\n",
    "            candies_l2r[idx + 1] += candies_l2r[idx]\n",
    "\n",
    "    for idx, rating in enumerate(reverse):\n",
    "        if idx < len(ratings) - 1 and rating < reverse[idx + 1]:\n",
    "            candies_r2l[idx + 1] += candies_r2l[idx]\n",
    "\n",
    "    for idx, candies in enumerate(list(reversed(candies_r2l))):\n",
    "        if candies > candies_l2r[idx]:\n",
    "            candies_l2r[idx] = candies\n",
    "\n",
    "    return sum(candies_l2r)"
   ]
  },
  {
   "cell_type": "code",
   "execution_count": 122,
   "id": "fa7902ce",
   "metadata": {},
   "outputs": [
    {
     "name": "stdout",
     "output_type": "stream",
     "text": [
      "\n",
      "Input:\n",
      "{'ratings': [5, 4, 3, 2, 1]}\n",
      "\n",
      "Expected Output:\n",
      "15\n",
      "\n",
      "\n",
      "Actual Output:\n",
      "15\n",
      "\n",
      "Execution Time:\n",
      "0.024 ms\n",
      "\n",
      "Test Result:\n",
      "\u001b[92mPASSED\u001b[0m\n",
      "\n"
     ]
    },
    {
     "data": {
      "text/plain": [
       "(15, True, 0.024)"
      ]
     },
     "execution_count": 122,
     "metadata": {},
     "output_type": "execute_result"
    }
   ],
   "source": [
    "evaluate_test_case(candy_distribution, test3)"
   ]
  },
  {
   "cell_type": "code",
   "execution_count": 123,
   "id": "75b4b3b3",
   "metadata": {},
   "outputs": [
    {
     "name": "stdout",
     "output_type": "stream",
     "text": [
      "\n",
      "\u001b[1mTEST CASE #0\u001b[0m\n",
      "\n",
      "Input:\n",
      "{'ratings': []}\n",
      "\n",
      "Expected Output:\n",
      "0\n",
      "\n",
      "\n",
      "Actual Output:\n",
      "0\n",
      "\n",
      "Execution Time:\n",
      "0.009 ms\n",
      "\n",
      "Test Result:\n",
      "\u001b[92mPASSED\u001b[0m\n",
      "\n",
      "\n",
      "\u001b[1mTEST CASE #1\u001b[0m\n",
      "\n",
      "Input:\n",
      "{'ratings': [3, 3, 5, 5]}\n",
      "\n",
      "Expected Output:\n",
      "5\n",
      "\n",
      "\n",
      "Actual Output:\n",
      "5\n",
      "\n",
      "Execution Time:\n",
      "0.008 ms\n",
      "\n",
      "Test Result:\n",
      "\u001b[92mPASSED\u001b[0m\n",
      "\n",
      "\n",
      "\u001b[1mTEST CASE #2\u001b[0m\n",
      "\n",
      "Input:\n",
      "{'ratings': [1, 2, 3, 4, 5]}\n",
      "\n",
      "Expected Output:\n",
      "15\n",
      "\n",
      "\n",
      "Actual Output:\n",
      "15\n",
      "\n",
      "Execution Time:\n",
      "0.009 ms\n",
      "\n",
      "Test Result:\n",
      "\u001b[92mPASSED\u001b[0m\n",
      "\n",
      "\n",
      "\u001b[1mTEST CASE #3\u001b[0m\n",
      "\n",
      "Input:\n",
      "{'ratings': [5, 4, 3, 2, 1]}\n",
      "\n",
      "Expected Output:\n",
      "15\n",
      "\n",
      "\n",
      "Actual Output:\n",
      "15\n",
      "\n",
      "Execution Time:\n",
      "0.007 ms\n",
      "\n",
      "Test Result:\n",
      "\u001b[92mPASSED\u001b[0m\n",
      "\n",
      "\n",
      "\u001b[1mTEST CASE #4\u001b[0m\n",
      "\n",
      "Input:\n",
      "{'ratings': [1, 0, 2]}\n",
      "\n",
      "Expected Output:\n",
      "5\n",
      "\n",
      "\n",
      "Actual Output:\n",
      "5\n",
      "\n",
      "Execution Time:\n",
      "0.006 ms\n",
      "\n",
      "Test Result:\n",
      "\u001b[92mPASSED\u001b[0m\n",
      "\n",
      "\n",
      "\u001b[1mTEST CASE #5\u001b[0m\n",
      "\n",
      "Input:\n",
      "{'ratings': [1, 2, 2]}\n",
      "\n",
      "Expected Output:\n",
      "4\n",
      "\n",
      "\n",
      "Actual Output:\n",
      "4\n",
      "\n",
      "Execution Time:\n",
      "0.016 ms\n",
      "\n",
      "Test Result:\n",
      "\u001b[92mPASSED\u001b[0m\n",
      "\n",
      "\n",
      "\u001b[1mSUMMARY\u001b[0m\n",
      "\n",
      "TOTAL: 6, \u001b[92mPASSED\u001b[0m: 6, \u001b[91mFAILED\u001b[0m: 0\n"
     ]
    },
    {
     "data": {
      "text/plain": [
       "[(0, True, 0.009),\n",
       " (5, True, 0.008),\n",
       " (15, True, 0.009),\n",
       " (15, True, 0.007),\n",
       " (5, True, 0.006),\n",
       " (4, True, 0.016)]"
      ]
     },
     "execution_count": 123,
     "metadata": {},
     "output_type": "execute_result"
    }
   ],
   "source": [
    "evaluate_test_cases(candy_distribution, tests)"
   ]
  },
  {
   "cell_type": "markdown",
   "id": "eddb576a",
   "metadata": {},
   "source": [
    "### 9. Analyze the algorithm's complexity and identify inefficiencies, if any."
   ]
  },
  {
   "cell_type": "markdown",
   "id": "7223cefa",
   "metadata": {},
   "source": [
    "### Time Complexity - $O(N)$\n",
    "\n",
    "- Our left to right, right to left method would have a time complexity of $O(N)$; this is because we will need to go through **`n`** ratings each time we go through the list. What going through the list L2R and R2L we only make one check; if the current rating larger than the next rating. After we go through our L2R and R2L list and take the max number of each rating and then get the sum of the for our total canides. "
   ]
  },
  {
   "cell_type": "markdown",
   "id": "d832a399",
   "metadata": {},
   "source": [
    "If you found the problem on an external platform, you can make a submission to test your solution.\n",
    "\n",
    "Share your approach and start a discussion on the Jovian forum: https://jovian.ai/forum/c/data-structures-and-algorithms-in-python/78"
   ]
  },
  {
   "cell_type": "code",
   "execution_count": 124,
   "id": "2458c745",
   "metadata": {},
   "outputs": [
    {
     "data": {
      "application/javascript": "window.require && require([\"base/js/namespace\"],function(Jupyter){Jupyter.notebook.save_checkpoint()})",
      "text/plain": [
       "<IPython.core.display.Javascript object>"
      ]
     },
     "metadata": {},
     "output_type": "display_data"
    },
    {
     "name": "stdout",
     "output_type": "stream",
     "text": [
      "[jovian] Updating notebook \"zoibderg/candy-distribution\" on https://jovian.ai/\u001b[0m\n",
      "[jovian] Committed successfully! https://jovian.ai/zoibderg/candy-distribution\u001b[0m\n"
     ]
    },
    {
     "data": {
      "text/plain": [
       "'https://jovian.ai/zoibderg/candy-distribution'"
      ]
     },
     "execution_count": 124,
     "metadata": {},
     "output_type": "execute_result"
    }
   ],
   "source": [
    "jovian.commit(project=project_name, filename=filename)"
   ]
  },
  {
   "cell_type": "code",
   "execution_count": null,
   "id": "4e71bb35",
   "metadata": {},
   "outputs": [],
   "source": []
  }
 ],
 "metadata": {
  "interpreter": {
   "hash": "31f2aee4e71d21fbe5cf8b01ff0e069b9275f58929596ceb00d14d90e3e16cd6"
  },
  "kernelspec": {
   "display_name": "Python 3.8.9 64-bit",
   "language": "python",
   "name": "python3"
  },
  "language_info": {
   "codemirror_mode": {
    "name": "ipython",
    "version": 3
   },
   "file_extension": ".py",
   "mimetype": "text/x-python",
   "name": "python",
   "nbconvert_exporter": "python",
   "pygments_lexer": "ipython3",
   "version": "3.8.9"
  }
 },
 "nbformat": 4,
 "nbformat_minor": 5
}
