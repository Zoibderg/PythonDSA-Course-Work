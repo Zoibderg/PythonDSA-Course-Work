{
 "cells": [
  {
   "cell_type": "markdown",
   "id": "5f39ea40",
   "metadata": {},
   "source": [
    "# Longest Common Subsequence\n",
    "\n",
    "\n"
   ]
  },
  {
   "cell_type": "code",
   "execution_count": 1,
   "id": "64a55cac",
   "metadata": {},
   "outputs": [],
   "source": [
    "project_name = 'longest-common-subsequence'\n",
    "filename = 'lcs-template.ipynb'"
   ]
  },
  {
   "cell_type": "code",
   "execution_count": 2,
   "id": "55aaf6f3",
   "metadata": {},
   "outputs": [
    {
     "name": "stdout",
     "output_type": "stream",
     "text": [
      "Note: you may need to restart the kernel to use updated packages.\n"
     ]
    }
   ],
   "source": [
    "%pip install jovian --upgrade --quiet"
   ]
  },
  {
   "cell_type": "code",
   "execution_count": 3,
   "id": "8062f873",
   "metadata": {},
   "outputs": [
    {
     "data": {
      "application/javascript": "if (window.IPython && IPython.notebook.kernel) IPython.notebook.kernel.execute('jovian.utils.jupyter.get_notebook_name_saved = lambda: \"' + IPython.notebook.notebook_name + '\"')",
      "text/plain": [
       "<IPython.core.display.Javascript object>"
      ]
     },
     "metadata": {},
     "output_type": "display_data"
    }
   ],
   "source": [
    "import jovian"
   ]
  },
  {
   "cell_type": "code",
   "execution_count": 4,
   "id": "2659775f",
   "metadata": {},
   "outputs": [
    {
     "data": {
      "application/javascript": "window.require && require([\"base/js/namespace\"],function(Jupyter){Jupyter.notebook.save_checkpoint()})",
      "text/plain": [
       "<IPython.core.display.Javascript object>"
      ]
     },
     "metadata": {},
     "output_type": "display_data"
    },
    {
     "name": "stdout",
     "output_type": "stream",
     "text": [
      "[jovian] Creating a new project \"zoibderg/longest-common-subsequence\"\u001b[0m\n",
      "[jovian] Committed successfully! https://jovian.ai/zoibderg/longest-common-subsequence\u001b[0m\n"
     ]
    },
    {
     "data": {
      "text/plain": [
       "'https://jovian.ai/zoibderg/longest-common-subsequence'"
      ]
     },
     "execution_count": 4,
     "metadata": {},
     "output_type": "execute_result"
    }
   ],
   "source": [
    "jovian.commit(project=project_name, privacy='secret', environment=None, filename=filename)"
   ]
  },
  {
   "cell_type": "markdown",
   "id": "ca99e0cb",
   "metadata": {},
   "source": [
    "## Problem Statement\n",
    "\n",
    "> Write a function to find the length of the **longest common subsequence** between two sequences. E.g. Given the strings \"serendipitous\" and \"precipitation\", the longest common subsequence is \"reipito\" and its length is 7.\n",
    ">\n",
    "> A \"sequence\" is a group of items with a deterministic ordering. Lists, tuples and ranges are some common sequence types in Python.\n",
    ">\n",
    "> A \"subsequence\" is a sequence obtained by deleting zero or more elements from another sequence. For example, \"edpt\" is a subsequence of \"serendipitous\".\n",
    "\n",
    "\n",
    "\n",
    "\n",
    "#### General case\n",
    "\n",
    "<img src=\"https://i.imgur.com/ry4Y0wS.png\" width=\"420\">"
   ]
  },
  {
   "cell_type": "markdown",
   "id": "9c8db804",
   "metadata": {},
   "source": [
    "## The Method\n",
    "\n",
    "Here's the systematic strategy we'll apply for solving problems:\n",
    "\n",
    "1. State the problem clearly. Identify the input & output formats.\n",
    "2. Come up with some example inputs & outputs. Try to cover all edge cases.\n",
    "3. Come up with a correct solution for the problem. State it in plain English.\n",
    "4. Implement the solution and test it using example inputs. Fix bugs, if any.\n",
    "5. Analyze the algorithm's complexity and identify inefficiencies, if any.\n",
    "6. Apply the right technique to overcome the inefficiency. Repeat steps 3 to 6.\n",
    "\n",
    "This approach is explained in detail in [Lesson 1](https://jovian.ai/learn/data-structures-and-algorithms-in-python/lesson/lesson-1-binary-search-linked-lists-and-complexity) of the course. Let's apply this approach step-by-step."
   ]
  },
  {
   "cell_type": "markdown",
   "id": "95f5eb8d",
   "metadata": {},
   "source": [
    "## Solution\n",
    "\n",
    "\n",
    "### 1. State the problem clearly. Identify the input & output formats.\n",
    "\n",
    "While this problem is stated clearly enough, it's always useful to try and express in your own words, in a way that makes it most clear for you. \n",
    "\n",
    "\n",
    "**Problem**\n",
    "\n",
    "> Given two sequences we are looking to find the length of the longest common subsequence (LCS) between the two sequences. \n",
    "\n",
    "<br/>\n",
    "\n",
    "\n",
    "**Input**\n",
    "\n",
    "1. **seq1** - A sequence, this could be a string, list, or even tuple. e.g. `serendipitous`\n",
    "2. **seq2** - Another sequence. e.g. `precipitation`\n",
    "\n",
    "\n",
    "**Output**\n",
    "\n",
    "1. **len_lcs** - The length of the LCS of our 2 sequences. e.g. `7` (Here we speicify that this is the length of the LCS as we may want to know what the LCS is in the future.)\n",
    "\n",
    "\n",
    "<br/>\n",
    "\n",
    "Based on the above, we can now create a signature of our function:"
   ]
  },
  {
   "cell_type": "code",
   "execution_count": 5,
   "id": "d8ecc3c8",
   "metadata": {},
   "outputs": [],
   "source": [
    "def find_len_lcs(seq1, seq2):\n",
    "    pass"
   ]
  },
  {
   "cell_type": "markdown",
   "id": "06b230de",
   "metadata": {},
   "source": [
    "Save and upload your work before continuing."
   ]
  },
  {
   "cell_type": "code",
   "execution_count": 6,
   "id": "98f1a057",
   "metadata": {},
   "outputs": [],
   "source": [
    "import jovian"
   ]
  },
  {
   "cell_type": "code",
   "execution_count": 7,
   "id": "605ee473",
   "metadata": {},
   "outputs": [
    {
     "data": {
      "application/javascript": "window.require && require([\"base/js/namespace\"],function(Jupyter){Jupyter.notebook.save_checkpoint()})",
      "text/plain": [
       "<IPython.core.display.Javascript object>"
      ]
     },
     "metadata": {},
     "output_type": "display_data"
    },
    {
     "name": "stdout",
     "output_type": "stream",
     "text": [
      "[jovian] Updating notebook \"zoibderg/longest-common-subsequence\" on https://jovian.ai/\u001b[0m\n",
      "[jovian] Committed successfully! https://jovian.ai/zoibderg/longest-common-subsequence\u001b[0m\n"
     ]
    },
    {
     "data": {
      "text/plain": [
       "'https://jovian.ai/zoibderg/longest-common-subsequence'"
      ]
     },
     "execution_count": 7,
     "metadata": {},
     "output_type": "execute_result"
    }
   ],
   "source": [
    "jovian.commit(project=project_name, filename=filename)"
   ]
  },
  {
   "cell_type": "markdown",
   "id": "31673b31",
   "metadata": {},
   "source": [
    "### 2. Come up with some example inputs & outputs. Try to cover all edge cases.\n",
    "\n",
    "Our function should be able to handle any set of valid inputs we pass into it. Here's a list of some possible variations we might encounter:\n",
    "\n",
    "1. A sequence that is a string.\n",
    "2. A sequence that is a list.\n",
    "3. An 'empty' sequence.\n",
    "4. 2 'empty' sequences\n",
    "5. A sequence that is a subsequence of the other sequence.\n",
    "6. 2 sequences that do not have any subsequences.\n",
    "7. Multiple subsequences of the same length.\n",
    "    - e.g. “abcdef” and “badcfe”\n",
    "\n",
    "\n",
    "We'll express our test cases as dictionaries, to test them easily. Each dictionary will contain 2 keys: `input` (a dictionary itself containing one key for each argument to the function and `output` (the expected result from the function). "
   ]
  },
  {
   "cell_type": "code",
   "execution_count": 8,
   "id": "713aa89c",
   "metadata": {},
   "outputs": [],
   "source": [
    "# a sequence that is a string (general case)\n",
    "T0 = {\n",
    "    'input': {\n",
    "        'seq1': 'serendipitous',\n",
    "        'seq2': 'precipitation'\n",
    "    },\n",
    "    'output': 7\n",
    "}\n",
    "\n",
    "# a sequence that is a list (general case)\n",
    "T1 = {\n",
    "    'input': {\n",
    "        'seq1': [1, 3, 5, 6, 7, 2, 5, 2, 3],\n",
    "        'seq2': [6, 2, 4, 7, 1, 5, 6, 2, 3]\n",
    "    },\n",
    "    'output': 5\n",
    "}\n",
    "\n",
    "# another general case\n",
    "T2 = {\n",
    "    'input': {\n",
    "        'seq1': 'longest',\n",
    "        'seq2': 'stone'\n",
    "    },\n",
    "    'output': 3\n",
    "}\n",
    "\n",
    "# 2 sequences that do not have any subsequences\n",
    "T3 = {\n",
    "    'input': {\n",
    "        'seq1': 'asdfwevad',\n",
    "        'seq2': 'opkpoiklklj'\n",
    "    },\n",
    "    'output': 0\n",
    "}\n",
    "\n",
    "# a sequence that is a subsequences of the other sequence\n",
    "T4 = {\n",
    "    'input': {\n",
    "        'seq1': 'dense',\n",
    "        'seq2': 'condensed'\n",
    "    },\n",
    "    'output': 5\n",
    "}\n",
    "\n",
    "# one empty sequence\n",
    "T5 = {\n",
    "    'input': {\n",
    "        'seq1': '',\n",
    "        'seq2': 'opkpoiklklj'\n",
    "    },\n",
    "    'output': 0\n",
    "}\n",
    "\n",
    "# two empty sequences\n",
    "T6 = {\n",
    "    'input': {\n",
    "        'seq1': '',\n",
    "        'seq2': ''\n",
    "    },\n",
    "    'output': 0\n",
    "}\n",
    "\n",
    "# mulpitle sub sequences of the same length\n",
    "T7 = {\n",
    "    'input': {\n",
    "        'seq1': 'abcdef',\n",
    "        'seq2': 'badcfe'\n",
    "    },\n",
    "    'output': 3\n",
    "}"
   ]
  },
  {
   "cell_type": "markdown",
   "id": "1725ca50",
   "metadata": {},
   "source": [
    "Create one test case for each of the scenarios listed above. We'll store our test cases in an array called `tests`."
   ]
  },
  {
   "cell_type": "code",
   "execution_count": 9,
   "id": "62a176c2",
   "metadata": {},
   "outputs": [],
   "source": [
    "lcs_tests = [T0, T1, T2, T3, T4, T5, T6, T7]"
   ]
  },
  {
   "cell_type": "markdown",
   "id": "40713b18",
   "metadata": {},
   "source": [
    "### 3. Come up with a correct solution for the problem. State it in plain English.\n",
    "\n",
    "Our first goal should always be to come up with a _correct_ solution to the problem, which may not necessarily be the most _efficient_ solution. Come with a correct solution and explain it in simple words below:\n",
    "\n",
    "1. Create two counters `idx1` and `idx2` starting at 0. Our recursive function will compute the LCS of `seq1[idx1:]` and `seq2[idx2:]`\n",
    "2.  If `seq1[idx1]` and `seq2[idx2]` are equal, then this character belongs to the LCS of `seq1[idx1:]` and `seq2[idx2:]`. Further the length of this LCS is one more than LCS of `seq1[idx1+1:]` and  `seq2[idx2+1:]`\n",
    "3. If not, then the LCS of `seq1[idx1:]` and `seq2[idx2:]` is the longer one among the LCS of `seq1[idx1+1:], seq2[idx2:]` and the LCS of `seq1[idx1:]`, `seq2[idx2+1:]`\n",
    "4. 5. If either `seq1[idx1:]` or `seq2[idx2:]` is empty, then they do not have an LCS.\n",
    "\n",
    "\n",
    "Let's save and upload our work before continuing.\n"
   ]
  },
  {
   "cell_type": "code",
   "execution_count": 10,
   "id": "dd796ae8",
   "metadata": {},
   "outputs": [
    {
     "data": {
      "application/javascript": "window.require && require([\"base/js/namespace\"],function(Jupyter){Jupyter.notebook.save_checkpoint()})",
      "text/plain": [
       "<IPython.core.display.Javascript object>"
      ]
     },
     "metadata": {},
     "output_type": "display_data"
    },
    {
     "name": "stdout",
     "output_type": "stream",
     "text": [
      "[jovian] Updating notebook \"zoibderg/longest-common-subsequence\" on https://jovian.ai/\u001b[0m\n",
      "[jovian] Committed successfully! https://jovian.ai/zoibderg/longest-common-subsequence\u001b[0m\n"
     ]
    },
    {
     "data": {
      "text/plain": [
       "'https://jovian.ai/zoibderg/longest-common-subsequence'"
      ]
     },
     "execution_count": 10,
     "metadata": {},
     "output_type": "execute_result"
    }
   ],
   "source": [
    "jovian.commit(project=project_name, filename=filename)"
   ]
  },
  {
   "cell_type": "markdown",
   "id": "d9f9c154",
   "metadata": {},
   "source": [
    "###  4. Implement the solution and test it using example inputs. Fix bugs, if any."
   ]
  },
  {
   "cell_type": "code",
   "execution_count": 11,
   "id": "afcfa032",
   "metadata": {},
   "outputs": [],
   "source": [
    "def len_lcs_recursive(seq1, seq2, idx1=0, idx2=0):\n",
    "    if idx1 == len(seq1) or idx2 == len(seq2):\n",
    "        return 0\n",
    "\n",
    "    elif seq1[idx1] == seq2[idx2]:\n",
    "        return 1 + len_lcs_recursive(seq1, seq2, idx1+1, idx2+1)\n",
    "\n",
    "    else:\n",
    "        first_idx = len_lcs_recursive(seq1, seq2, idx1+1, idx2)\n",
    "        second_idx = len_lcs_recursive(seq1, seq2, idx1, idx2+1)\n",
    "        return max(first_idx, second_idx)\n"
   ]
  },
  {
   "cell_type": "code",
   "execution_count": 12,
   "id": "bf98a759",
   "metadata": {},
   "outputs": [],
   "source": [
    "from jovian.pythondsa import evaluate_test_case, evaluate_test_cases"
   ]
  },
  {
   "cell_type": "code",
   "execution_count": 13,
   "id": "50daaafb",
   "metadata": {},
   "outputs": [
    {
     "name": "stdout",
     "output_type": "stream",
     "text": [
      "\n",
      "Input:\n",
      "{'seq1': 'serendipitous', 'seq2': 'precipitation'}\n",
      "\n",
      "Expected Output:\n",
      "7\n",
      "\n",
      "\n",
      "Actual Output:\n",
      "7\n",
      "\n",
      "Execution Time:\n",
      "737.29 ms\n",
      "\n",
      "Test Result:\n",
      "\u001b[92mPASSED\u001b[0m\n",
      "\n"
     ]
    },
    {
     "data": {
      "text/plain": [
       "(7, True, 737.29)"
      ]
     },
     "execution_count": 13,
     "metadata": {},
     "output_type": "execute_result"
    }
   ],
   "source": [
    "evaluate_test_case(len_lcs_recursive, T0)"
   ]
  },
  {
   "cell_type": "code",
   "execution_count": 14,
   "id": "fc01abdb",
   "metadata": {},
   "outputs": [
    {
     "name": "stdout",
     "output_type": "stream",
     "text": [
      "\n",
      "\u001b[1mTEST CASE #0\u001b[0m\n",
      "\n",
      "Input:\n",
      "{'seq1': 'serendipitous', 'seq2': 'precipitation'}\n",
      "\n",
      "Expected Output:\n",
      "7\n",
      "\n",
      "\n",
      "Actual Output:\n",
      "7\n",
      "\n",
      "Execution Time:\n",
      "752.158 ms\n",
      "\n",
      "Test Result:\n",
      "\u001b[92mPASSED\u001b[0m\n",
      "\n",
      "\n",
      "\u001b[1mTEST CASE #1\u001b[0m\n",
      "\n",
      "Input:\n",
      "{'seq1': [1, 3, 5, 6, 7, 2, 5, 2, 3], 'seq2': [6, 2, 4, 7, 1, 5, 6, 2, 3]}\n",
      "\n",
      "Expected Output:\n",
      "5\n",
      "\n",
      "\n",
      "Actual Output:\n",
      "5\n",
      "\n",
      "Execution Time:\n",
      "10.536 ms\n",
      "\n",
      "Test Result:\n",
      "\u001b[92mPASSED\u001b[0m\n",
      "\n",
      "\n",
      "\u001b[1mTEST CASE #2\u001b[0m\n",
      "\n",
      "Input:\n",
      "{'seq1': 'longest', 'seq2': 'stone'}\n",
      "\n",
      "Expected Output:\n",
      "3\n",
      "\n",
      "\n",
      "Actual Output:\n",
      "3\n",
      "\n",
      "Execution Time:\n",
      "0.354 ms\n",
      "\n",
      "Test Result:\n",
      "\u001b[92mPASSED\u001b[0m\n",
      "\n",
      "\n",
      "\u001b[1mTEST CASE #3\u001b[0m\n",
      "\n",
      "Input:\n",
      "{'seq1': 'asdfwevad', 'seq2': 'opkpoiklklj'}\n",
      "\n",
      "Expected Output:\n",
      "0\n",
      "\n",
      "\n",
      "Actual Output:\n",
      "0\n",
      "\n",
      "Execution Time:\n",
      "173.86 ms\n",
      "\n",
      "Test Result:\n",
      "\u001b[92mPASSED\u001b[0m\n",
      "\n",
      "\n",
      "\u001b[1mTEST CASE #4\u001b[0m\n",
      "\n",
      "Input:\n",
      "{'seq1': 'dense', 'seq2': 'condensed'}\n",
      "\n",
      "Expected Output:\n",
      "5\n",
      "\n",
      "\n",
      "Actual Output:\n",
      "5\n",
      "\n",
      "Execution Time:\n",
      "0.195 ms\n",
      "\n",
      "Test Result:\n",
      "\u001b[92mPASSED\u001b[0m\n",
      "\n",
      "\n",
      "\u001b[1mTEST CASE #5\u001b[0m\n",
      "\n",
      "Input:\n",
      "{'seq1': '', 'seq2': 'opkpoiklklj'}\n",
      "\n",
      "Expected Output:\n",
      "0\n",
      "\n",
      "\n",
      "Actual Output:\n",
      "0\n",
      "\n",
      "Execution Time:\n",
      "0.003 ms\n",
      "\n",
      "Test Result:\n",
      "\u001b[92mPASSED\u001b[0m\n",
      "\n",
      "\n",
      "\u001b[1mTEST CASE #6\u001b[0m\n",
      "\n",
      "Input:\n",
      "{'seq1': '', 'seq2': ''}\n",
      "\n",
      "Expected Output:\n",
      "0\n",
      "\n",
      "\n",
      "Actual Output:\n",
      "0\n",
      "\n",
      "Execution Time:\n",
      "0.002 ms\n",
      "\n",
      "Test Result:\n",
      "\u001b[92mPASSED\u001b[0m\n",
      "\n",
      "\n",
      "\u001b[1mTEST CASE #7\u001b[0m\n",
      "\n",
      "Input:\n",
      "{'seq1': 'abcdef', 'seq2': 'badcfe'}\n",
      "\n",
      "Expected Output:\n",
      "3\n",
      "\n",
      "\n",
      "Actual Output:\n",
      "3\n",
      "\n",
      "Execution Time:\n",
      "0.069 ms\n",
      "\n",
      "Test Result:\n",
      "\u001b[92mPASSED\u001b[0m\n",
      "\n",
      "\n",
      "\u001b[1mSUMMARY\u001b[0m\n",
      "\n",
      "TOTAL: 8, \u001b[92mPASSED\u001b[0m: 8, \u001b[91mFAILED\u001b[0m: 0\n"
     ]
    },
    {
     "data": {
      "text/plain": [
       "[(7, True, 752.158),\n",
       " (5, True, 10.536),\n",
       " (3, True, 0.354),\n",
       " (0, True, 173.86),\n",
       " (5, True, 0.195),\n",
       " (0, True, 0.003),\n",
       " (0, True, 0.002),\n",
       " (3, True, 0.069)]"
      ]
     },
     "execution_count": 14,
     "metadata": {},
     "output_type": "execute_result"
    }
   ],
   "source": [
    "evaluate_test_cases(len_lcs_recursive, lcs_tests)"
   ]
  },
  {
   "cell_type": "code",
   "execution_count": 15,
   "id": "3cff5b65",
   "metadata": {},
   "outputs": [
    {
     "data": {
      "application/javascript": "window.require && require([\"base/js/namespace\"],function(Jupyter){Jupyter.notebook.save_checkpoint()})",
      "text/plain": [
       "<IPython.core.display.Javascript object>"
      ]
     },
     "metadata": {},
     "output_type": "display_data"
    },
    {
     "name": "stdout",
     "output_type": "stream",
     "text": [
      "[jovian] Updating notebook \"zoibderg/longest-common-subsequence\" on https://jovian.ai/\u001b[0m\n",
      "[jovian] Committed successfully! https://jovian.ai/zoibderg/longest-common-subsequence\u001b[0m\n"
     ]
    },
    {
     "data": {
      "text/plain": [
       "'https://jovian.ai/zoibderg/longest-common-subsequence'"
      ]
     },
     "execution_count": 15,
     "metadata": {},
     "output_type": "execute_result"
    }
   ],
   "source": [
    "jovian.commit(project=project_name, filename=filename)"
   ]
  },
  {
   "cell_type": "markdown",
   "id": "04b9887f",
   "metadata": {},
   "source": [
    "### 5. Analyze the algorithm's complexity and identify inefficiencies, if any."
   ]
  },
  {
   "cell_type": "markdown",
   "id": "25216afe",
   "metadata": {},
   "source": [
    "Due to this algorithms recursive nature, its complexity is exponental. The 'height' of a tree will be `m+n` and at each level we will need to make 2 decesions. `2*m+n`.\n",
    "\n",
    "Big O - $O(2^{m+n})$"
   ]
  },
  {
   "cell_type": "code",
   "execution_count": 16,
   "id": "e8f990ac",
   "metadata": {},
   "outputs": [
    {
     "data": {
      "application/javascript": "window.require && require([\"base/js/namespace\"],function(Jupyter){Jupyter.notebook.save_checkpoint()})",
      "text/plain": [
       "<IPython.core.display.Javascript object>"
      ]
     },
     "metadata": {},
     "output_type": "display_data"
    },
    {
     "name": "stdout",
     "output_type": "stream",
     "text": [
      "[jovian] Updating notebook \"zoibderg/longest-common-subsequence\" on https://jovian.ai/\u001b[0m\n",
      "[jovian] Committed successfully! https://jovian.ai/zoibderg/longest-common-subsequence\u001b[0m\n"
     ]
    },
    {
     "data": {
      "text/plain": [
       "'https://jovian.ai/zoibderg/longest-common-subsequence'"
      ]
     },
     "execution_count": 16,
     "metadata": {},
     "output_type": "execute_result"
    }
   ],
   "source": [
    "jovian.commit(project=project_name, filename=filename)"
   ]
  },
  {
   "cell_type": "markdown",
   "id": "8088e702",
   "metadata": {},
   "source": [
    "### 6. Apply the right technique to overcome the inefficiency. Repeat steps 3 to 6."
   ]
  },
  {
   "cell_type": "markdown",
   "id": "6fdc3ab7",
   "metadata": {},
   "source": [
    "To overcome the inefficiency of going over our idxs multiple times, we will implement memoization. Storing idxs that we have already chosen so that we know not to test them again. This will save us from having to make the same decesions multiple times. "
   ]
  },
  {
   "cell_type": "code",
   "execution_count": 17,
   "id": "ea8e2a10",
   "metadata": {},
   "outputs": [
    {
     "data": {
      "application/javascript": "window.require && require([\"base/js/namespace\"],function(Jupyter){Jupyter.notebook.save_checkpoint()})",
      "text/plain": [
       "<IPython.core.display.Javascript object>"
      ]
     },
     "metadata": {},
     "output_type": "display_data"
    },
    {
     "name": "stdout",
     "output_type": "stream",
     "text": [
      "[jovian] Updating notebook \"zoibderg/longest-common-subsequence\" on https://jovian.ai/\u001b[0m\n",
      "[jovian] Committed successfully! https://jovian.ai/zoibderg/longest-common-subsequence\u001b[0m\n"
     ]
    },
    {
     "data": {
      "text/plain": [
       "'https://jovian.ai/zoibderg/longest-common-subsequence'"
      ]
     },
     "execution_count": 17,
     "metadata": {},
     "output_type": "execute_result"
    }
   ],
   "source": [
    "jovian.commit(project=project_name, filename=filename)"
   ]
  },
  {
   "cell_type": "markdown",
   "id": "4be76198",
   "metadata": {},
   "source": [
    "### 7. Come up with a correct solution for the problem. State it in plain English.\n",
    "\n",
    "Come with the optimized correct solution and explain it in simple words below:\n",
    "\n",
    "1. Create a memo dictonary to store values of idx that we have chosen.\n",
    "2. Store our key as idx1 and idx2\n",
    "3. If our key (idx1 and idx2) is in our memo, problem is solved, return memo[key]\n",
    "4. If idx1 or idx2 are equel to seq1 or seq2, there is no LCS, return 0\n",
    "5. Otherwise, preform our recursive function from before. \n",
    "\n",
    "Let's save and upload our work before continuing.\n",
    "\n"
   ]
  },
  {
   "cell_type": "code",
   "execution_count": 18,
   "id": "986da128",
   "metadata": {},
   "outputs": [
    {
     "data": {
      "application/javascript": "window.require && require([\"base/js/namespace\"],function(Jupyter){Jupyter.notebook.save_checkpoint()})",
      "text/plain": [
       "<IPython.core.display.Javascript object>"
      ]
     },
     "metadata": {},
     "output_type": "display_data"
    },
    {
     "name": "stdout",
     "output_type": "stream",
     "text": [
      "[jovian] Updating notebook \"zoibderg/longest-common-subsequence\" on https://jovian.ai/\u001b[0m\n",
      "[jovian] Committed successfully! https://jovian.ai/zoibderg/longest-common-subsequence\u001b[0m\n"
     ]
    },
    {
     "data": {
      "text/plain": [
       "'https://jovian.ai/zoibderg/longest-common-subsequence'"
      ]
     },
     "execution_count": 18,
     "metadata": {},
     "output_type": "execute_result"
    }
   ],
   "source": [
    "jovian.commit(project=project_name, filename=filename)"
   ]
  },
  {
   "cell_type": "markdown",
   "id": "98af8600",
   "metadata": {},
   "source": [
    "### 8. Implement the solution and test it using example inputs. Fix bugs, if any."
   ]
  },
  {
   "cell_type": "code",
   "execution_count": 27,
   "id": "4bb14f0a",
   "metadata": {},
   "outputs": [],
   "source": [
    "def len_lcs_memo(seq1, seq2):\n",
    "    memo = {}\n",
    "\n",
    "    def recurseive(idx1=0, idx2=0):\n",
    "        key = (idx1, idx2)\n",
    "        if key in memo:\n",
    "            return memo[key]\n",
    "\n",
    "        elif idx1 == len(seq1) or idx2 == len(seq2):\n",
    "            memo[key] = 0\n",
    "\n",
    "        elif seq1[idx1] == seq2[idx2]:\n",
    "            memo[key] = 1 + recurseive(idx1+1, idx2+1)\n",
    "\n",
    "        else:\n",
    "            memo[key] = max(recurseive(idx1+1, idx2), recurseive(idx1, idx2+1))\n",
    "\n",
    "        return memo[key]\n",
    "    return recurseive(0, 0)"
   ]
  },
  {
   "cell_type": "code",
   "execution_count": 28,
   "id": "ca1e893a",
   "metadata": {},
   "outputs": [
    {
     "name": "stdout",
     "output_type": "stream",
     "text": [
      "\n",
      "Input:\n",
      "{'seq1': 'serendipitous', 'seq2': 'precipitation'}\n",
      "\n",
      "Expected Output:\n",
      "7\n",
      "\n",
      "\n",
      "Actual Output:\n",
      "7\n",
      "\n",
      "Execution Time:\n",
      "1.224 ms\n",
      "\n",
      "Test Result:\n",
      "\u001b[92mPASSED\u001b[0m\n",
      "\n"
     ]
    },
    {
     "data": {
      "text/plain": [
       "(7, True, 1.224)"
      ]
     },
     "execution_count": 28,
     "metadata": {},
     "output_type": "execute_result"
    }
   ],
   "source": [
    "evaluate_test_case(len_lcs_memo, T0)"
   ]
  },
  {
   "cell_type": "code",
   "execution_count": 29,
   "id": "fa7902ce",
   "metadata": {},
   "outputs": [
    {
     "name": "stdout",
     "output_type": "stream",
     "text": [
      "\n",
      "\u001b[1mTEST CASE #0\u001b[0m\n",
      "\n",
      "Input:\n",
      "{'seq1': 'serendipitous', 'seq2': 'precipitation'}\n",
      "\n",
      "Expected Output:\n",
      "7\n",
      "\n",
      "\n",
      "Actual Output:\n",
      "7\n",
      "\n",
      "Execution Time:\n",
      "0.385 ms\n",
      "\n",
      "Test Result:\n",
      "\u001b[92mPASSED\u001b[0m\n",
      "\n",
      "\n",
      "\u001b[1mTEST CASE #1\u001b[0m\n",
      "\n",
      "Input:\n",
      "{'seq1': [1, 3, 5, 6, 7, 2, 5, 2, 3], 'seq2': [6, 2, 4, 7, 1, 5, 6, 2, 3]}\n",
      "\n",
      "Expected Output:\n",
      "5\n",
      "\n",
      "\n",
      "Actual Output:\n",
      "5\n",
      "\n",
      "Execution Time:\n",
      "0.169 ms\n",
      "\n",
      "Test Result:\n",
      "\u001b[92mPASSED\u001b[0m\n",
      "\n",
      "\n",
      "\u001b[1mTEST CASE #2\u001b[0m\n",
      "\n",
      "Input:\n",
      "{'seq1': 'longest', 'seq2': 'stone'}\n",
      "\n",
      "Expected Output:\n",
      "3\n",
      "\n",
      "\n",
      "Actual Output:\n",
      "3\n",
      "\n",
      "Execution Time:\n",
      "0.117 ms\n",
      "\n",
      "Test Result:\n",
      "\u001b[92mPASSED\u001b[0m\n",
      "\n",
      "\n",
      "\u001b[1mTEST CASE #3\u001b[0m\n",
      "\n",
      "Input:\n",
      "{'seq1': 'asdfwevad', 'seq2': 'opkpoiklklj'}\n",
      "\n",
      "Expected Output:\n",
      "0\n",
      "\n",
      "\n",
      "Actual Output:\n",
      "0\n",
      "\n",
      "Execution Time:\n",
      "0.263 ms\n",
      "\n",
      "Test Result:\n",
      "\u001b[92mPASSED\u001b[0m\n",
      "\n",
      "\n",
      "\u001b[1mTEST CASE #4\u001b[0m\n",
      "\n",
      "Input:\n",
      "{'seq1': 'dense', 'seq2': 'condensed'}\n",
      "\n",
      "Expected Output:\n",
      "5\n",
      "\n",
      "\n",
      "Actual Output:\n",
      "5\n",
      "\n",
      "Execution Time:\n",
      "0.157 ms\n",
      "\n",
      "Test Result:\n",
      "\u001b[92mPASSED\u001b[0m\n",
      "\n",
      "\n",
      "\u001b[1mTEST CASE #5\u001b[0m\n",
      "\n",
      "Input:\n",
      "{'seq1': '', 'seq2': 'opkpoiklklj'}\n",
      "\n",
      "Expected Output:\n",
      "0\n",
      "\n",
      "\n",
      "Actual Output:\n",
      "0\n",
      "\n",
      "Execution Time:\n",
      "0.005 ms\n",
      "\n",
      "Test Result:\n",
      "\u001b[92mPASSED\u001b[0m\n",
      "\n",
      "\n",
      "\u001b[1mTEST CASE #6\u001b[0m\n",
      "\n",
      "Input:\n",
      "{'seq1': '', 'seq2': ''}\n",
      "\n",
      "Expected Output:\n",
      "0\n",
      "\n",
      "\n",
      "Actual Output:\n",
      "0\n",
      "\n",
      "Execution Time:\n",
      "0.006 ms\n",
      "\n",
      "Test Result:\n",
      "\u001b[92mPASSED\u001b[0m\n",
      "\n",
      "\n",
      "\u001b[1mTEST CASE #7\u001b[0m\n",
      "\n",
      "Input:\n",
      "{'seq1': 'abcdef', 'seq2': 'badcfe'}\n",
      "\n",
      "Expected Output:\n",
      "3\n",
      "\n",
      "\n",
      "Actual Output:\n",
      "3\n",
      "\n",
      "Execution Time:\n",
      "0.042 ms\n",
      "\n",
      "Test Result:\n",
      "\u001b[92mPASSED\u001b[0m\n",
      "\n",
      "\n",
      "\u001b[1mSUMMARY\u001b[0m\n",
      "\n",
      "TOTAL: 8, \u001b[92mPASSED\u001b[0m: 8, \u001b[91mFAILED\u001b[0m: 0\n"
     ]
    },
    {
     "data": {
      "text/plain": [
       "[(7, True, 0.385),\n",
       " (5, True, 0.169),\n",
       " (3, True, 0.117),\n",
       " (0, True, 0.263),\n",
       " (5, True, 0.157),\n",
       " (0, True, 0.005),\n",
       " (0, True, 0.006),\n",
       " (3, True, 0.042)]"
      ]
     },
     "execution_count": 29,
     "metadata": {},
     "output_type": "execute_result"
    }
   ],
   "source": [
    "evaluate_test_cases(len_lcs_memo, lcs_tests)"
   ]
  },
  {
   "cell_type": "code",
   "execution_count": 30,
   "id": "75b4b3b3",
   "metadata": {},
   "outputs": [
    {
     "data": {
      "application/javascript": "window.require && require([\"base/js/namespace\"],function(Jupyter){Jupyter.notebook.save_checkpoint()})",
      "text/plain": [
       "<IPython.core.display.Javascript object>"
      ]
     },
     "metadata": {},
     "output_type": "display_data"
    },
    {
     "name": "stdout",
     "output_type": "stream",
     "text": [
      "[jovian] Updating notebook \"zoibderg/longest-common-subsequence\" on https://jovian.ai/\u001b[0m\n",
      "[jovian] Committed successfully! https://jovian.ai/zoibderg/longest-common-subsequence\u001b[0m\n"
     ]
    },
    {
     "data": {
      "text/plain": [
       "'https://jovian.ai/zoibderg/longest-common-subsequence'"
      ]
     },
     "execution_count": 30,
     "metadata": {},
     "output_type": "execute_result"
    }
   ],
   "source": [
    "jovian.commit(project=project_name, filename=filename)"
   ]
  },
  {
   "cell_type": "markdown",
   "id": "eddb576a",
   "metadata": {},
   "source": [
    "### 9. Analyze the algorithm's complexity and identify inefficiencies, if any."
   ]
  },
  {
   "cell_type": "markdown",
   "id": "b4c1cc63",
   "metadata": {},
   "source": [
    "While our memoization helps us not recurse over keys that we have already looked at, we still will need to go through the max of seq1 and seq2, due to the recursive nature of our algorithm. This reduces our time complexeity to $O(m*n)$."
   ]
  },
  {
   "cell_type": "markdown",
   "id": "e446b7f0",
   "metadata": {},
   "source": [
    "### 10. Come up with a correct solution for the problem. State it in plain English.\n",
    "\n",
    "Come with the optimized correct solution and explain it in simple words below:\n",
    "\n",
    "1. Create a table of size $(n1+1) * (n2+1)$ initlized with 0s. Where $n1$ and $n2$ are the lengths of the sequencs. \n",
    "2. Table $[i][j]$ represents the longest common subsequencs of $seq1[:i]$ and $seq2[:j]$. \n",
    "3. If $seq1[i]$ and $seq2[j]$ are equal, then $table[i+1][j+1] = 1 + table[i][j]$\n",
    "4. If $seq1[i]$ and $seq2[j]$ are not equal, then $table[i+1][j+1] = max(table[i][j+1], table[i+1][j])$\n"
   ]
  },
  {
   "cell_type": "markdown",
   "id": "505f36f4",
   "metadata": {},
   "source": [
    "### 11. Implement the solution and test it using example inputs. Fix bugs, if any."
   ]
  },
  {
   "cell_type": "code",
   "execution_count": 32,
   "id": "3fe44fc9",
   "metadata": {},
   "outputs": [],
   "source": [
    "def len_lcs_dynamic(seq1, seq2):\n",
    "    n1, n2 = len(seq1), len(seq2)\n",
    "    table = [[0 for x in range(n2+1)] for x in range(n1+1)]\n",
    "\n",
    "    for i in range(n1):\n",
    "        for j in range(n2):\n",
    "            if seq1[i] == seq2[j]:\n",
    "                table[i+1][j+1] = 1 + table[i][j]\n",
    "            \n",
    "            else:\n",
    "                table[i+1][j+1] = max(table[i][j+1], table[i+1][j])\n",
    "\n",
    "    return table[-1][-1]"
   ]
  },
  {
   "cell_type": "code",
   "execution_count": 33,
   "id": "de9b0504",
   "metadata": {},
   "outputs": [
    {
     "name": "stdout",
     "output_type": "stream",
     "text": [
      "\n",
      "Input:\n",
      "{'seq1': 'serendipitous', 'seq2': 'precipitation'}\n",
      "\n",
      "Expected Output:\n",
      "7\n",
      "\n",
      "\n",
      "Actual Output:\n",
      "7\n",
      "\n",
      "Execution Time:\n",
      "0.174 ms\n",
      "\n",
      "Test Result:\n",
      "\u001b[92mPASSED\u001b[0m\n",
      "\n"
     ]
    },
    {
     "data": {
      "text/plain": [
       "(7, True, 0.174)"
      ]
     },
     "execution_count": 33,
     "metadata": {},
     "output_type": "execute_result"
    }
   ],
   "source": [
    "evaluate_test_case(len_lcs_dynamic, T0)"
   ]
  },
  {
   "cell_type": "code",
   "execution_count": 34,
   "id": "2b26a4f1",
   "metadata": {},
   "outputs": [
    {
     "name": "stdout",
     "output_type": "stream",
     "text": [
      "\n",
      "\u001b[1mTEST CASE #0\u001b[0m\n",
      "\n",
      "Input:\n",
      "{'seq1': 'serendipitous', 'seq2': 'precipitation'}\n",
      "\n",
      "Expected Output:\n",
      "7\n",
      "\n",
      "\n",
      "Actual Output:\n",
      "7\n",
      "\n",
      "Execution Time:\n",
      "0.173 ms\n",
      "\n",
      "Test Result:\n",
      "\u001b[92mPASSED\u001b[0m\n",
      "\n",
      "\n",
      "\u001b[1mTEST CASE #1\u001b[0m\n",
      "\n",
      "Input:\n",
      "{'seq1': [1, 3, 5, 6, 7, 2, 5, 2, 3], 'seq2': [6, 2, 4, 7, 1, 5, 6, 2, 3]}\n",
      "\n",
      "Expected Output:\n",
      "5\n",
      "\n",
      "\n",
      "Actual Output:\n",
      "5\n",
      "\n",
      "Execution Time:\n",
      "0.081 ms\n",
      "\n",
      "Test Result:\n",
      "\u001b[92mPASSED\u001b[0m\n",
      "\n",
      "\n",
      "\u001b[1mTEST CASE #2\u001b[0m\n",
      "\n",
      "Input:\n",
      "{'seq1': 'longest', 'seq2': 'stone'}\n",
      "\n",
      "Expected Output:\n",
      "3\n",
      "\n",
      "\n",
      "Actual Output:\n",
      "3\n",
      "\n",
      "Execution Time:\n",
      "0.049 ms\n",
      "\n",
      "Test Result:\n",
      "\u001b[92mPASSED\u001b[0m\n",
      "\n",
      "\n",
      "\u001b[1mTEST CASE #3\u001b[0m\n",
      "\n",
      "Input:\n",
      "{'seq1': 'asdfwevad', 'seq2': 'opkpoiklklj'}\n",
      "\n",
      "Expected Output:\n",
      "0\n",
      "\n",
      "\n",
      "Actual Output:\n",
      "0\n",
      "\n",
      "Execution Time:\n",
      "0.115 ms\n",
      "\n",
      "Test Result:\n",
      "\u001b[92mPASSED\u001b[0m\n",
      "\n",
      "\n",
      "\u001b[1mTEST CASE #4\u001b[0m\n",
      "\n",
      "Input:\n",
      "{'seq1': 'dense', 'seq2': 'condensed'}\n",
      "\n",
      "Expected Output:\n",
      "5\n",
      "\n",
      "\n",
      "Actual Output:\n",
      "5\n",
      "\n",
      "Execution Time:\n",
      "0.067 ms\n",
      "\n",
      "Test Result:\n",
      "\u001b[92mPASSED\u001b[0m\n",
      "\n",
      "\n",
      "\u001b[1mTEST CASE #5\u001b[0m\n",
      "\n",
      "Input:\n",
      "{'seq1': '', 'seq2': 'opkpoiklklj'}\n",
      "\n",
      "Expected Output:\n",
      "0\n",
      "\n",
      "\n",
      "Actual Output:\n",
      "0\n",
      "\n",
      "Execution Time:\n",
      "0.009 ms\n",
      "\n",
      "Test Result:\n",
      "\u001b[92mPASSED\u001b[0m\n",
      "\n",
      "\n",
      "\u001b[1mTEST CASE #6\u001b[0m\n",
      "\n",
      "Input:\n",
      "{'seq1': '', 'seq2': ''}\n",
      "\n",
      "Expected Output:\n",
      "0\n",
      "\n",
      "\n",
      "Actual Output:\n",
      "0\n",
      "\n",
      "Execution Time:\n",
      "0.007 ms\n",
      "\n",
      "Test Result:\n",
      "\u001b[92mPASSED\u001b[0m\n",
      "\n",
      "\n",
      "\u001b[1mTEST CASE #7\u001b[0m\n",
      "\n",
      "Input:\n",
      "{'seq1': 'abcdef', 'seq2': 'badcfe'}\n",
      "\n",
      "Expected Output:\n",
      "3\n",
      "\n",
      "\n",
      "Actual Output:\n",
      "3\n",
      "\n",
      "Execution Time:\n",
      "0.05 ms\n",
      "\n",
      "Test Result:\n",
      "\u001b[92mPASSED\u001b[0m\n",
      "\n",
      "\n",
      "\u001b[1mSUMMARY\u001b[0m\n",
      "\n",
      "TOTAL: 8, \u001b[92mPASSED\u001b[0m: 8, \u001b[91mFAILED\u001b[0m: 0\n"
     ]
    },
    {
     "data": {
      "text/plain": [
       "[(7, True, 0.173),\n",
       " (5, True, 0.081),\n",
       " (3, True, 0.049),\n",
       " (0, True, 0.115),\n",
       " (5, True, 0.067),\n",
       " (0, True, 0.009),\n",
       " (0, True, 0.007),\n",
       " (3, True, 0.05)]"
      ]
     },
     "execution_count": 34,
     "metadata": {},
     "output_type": "execute_result"
    }
   ],
   "source": [
    "evaluate_test_cases(len_lcs_dynamic, lcs_tests)"
   ]
  },
  {
   "cell_type": "code",
   "execution_count": 35,
   "id": "84a17304",
   "metadata": {},
   "outputs": [
    {
     "data": {
      "application/javascript": "window.require && require([\"base/js/namespace\"],function(Jupyter){Jupyter.notebook.save_checkpoint()})",
      "text/plain": [
       "<IPython.core.display.Javascript object>"
      ]
     },
     "metadata": {},
     "output_type": "display_data"
    },
    {
     "name": "stdout",
     "output_type": "stream",
     "text": [
      "[jovian] Updating notebook \"zoibderg/longest-common-subsequence\" on https://jovian.ai/\u001b[0m\n",
      "[jovian] Committed successfully! https://jovian.ai/zoibderg/longest-common-subsequence\u001b[0m\n"
     ]
    },
    {
     "data": {
      "text/plain": [
       "'https://jovian.ai/zoibderg/longest-common-subsequence'"
      ]
     },
     "execution_count": 35,
     "metadata": {},
     "output_type": "execute_result"
    }
   ],
   "source": [
    "jovian.commit(project=project_name, filename=filename)"
   ]
  },
  {
   "cell_type": "markdown",
   "id": "32720895",
   "metadata": {},
   "source": [
    "### 12. Analyze the algorithm's complexity and identify inefficiencies, if any."
   ]
  },
  {
   "cell_type": "markdown",
   "id": "b678f006",
   "metadata": {},
   "source": [
    "Here our time complexity is still the same as memoization - $O(N1 * N2)$, despite this, this does not require extra memeory on the system, so this will function much quicker with extreamly large sequences. (Like DNA)"
   ]
  },
  {
   "cell_type": "code",
   "execution_count": null,
   "id": "77e9e6d8",
   "metadata": {},
   "outputs": [],
   "source": []
  }
 ],
 "metadata": {
  "interpreter": {
   "hash": "31f2aee4e71d21fbe5cf8b01ff0e069b9275f58929596ceb00d14d90e3e16cd6"
  },
  "kernelspec": {
   "display_name": "Python 3.8.2 64-bit",
   "language": "python",
   "name": "python3"
  },
  "language_info": {
   "codemirror_mode": {
    "name": "ipython",
    "version": 3
   },
   "file_extension": ".py",
   "mimetype": "text/x-python",
   "name": "python",
   "nbconvert_exporter": "python",
   "pygments_lexer": "ipython3",
   "version": "3.8.9"
  }
 },
 "nbformat": 4,
 "nbformat_minor": 5
}
