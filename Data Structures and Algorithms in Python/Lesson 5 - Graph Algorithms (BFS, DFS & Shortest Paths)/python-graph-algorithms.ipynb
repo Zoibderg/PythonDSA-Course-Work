{
 "cells": [
  {
   "cell_type": "markdown",
   "id": "variable-garbage",
   "metadata": {},
   "source": [
    "# Graph Algorithms (BFS, DFS, Shortest Paths) using Python\n",
    "\n",
    "[Data Structures and Algorithms in Python](https://pythondsa.com) is beginner-friendly introduction to common data structures (linked lists, stacks, queues, graphs) and algorithms (search, sorting, recursion, dynamic programming) in Python, designed to help you prepare for coding interviews and assessments. \n",
    "\n",
    "Ask questions, get help & participate in discussions on the [course community forum](https://jovian.ai/forum/c/data-structures-and-algorithms-in-python/78). Earn a verified certificate of accomplishment for this course by signing up here: http://pythondsa.com .  \n",
    "\n"
   ]
  },
  {
   "cell_type": "markdown",
   "id": "acceptable-clearance",
   "metadata": {},
   "source": [
    "### How to Run the Code\n",
    "\n",
    "The best way to learn the material is to execute the code and experiment with it yourself. This tutorial is an executable [Jupyter notebook](https://jupyter.org). You can _run_ this tutorial and experiment with the code examples in a couple of ways: *using free online resources* (recommended) or *on your computer*.\n",
    "\n",
    "#### Option 1: Running using free online resources (1-click, recommended)\n",
    "\n",
    "The easiest way to start executing the code is to click the **Run** button at the top of this page and select **Run on Binder**. You can also select \"Run on Colab\" or \"Run on Kaggle\", but you'll need to create an account on [Google Colab](https://colab.research.google.com) or [Kaggle](https://kaggle.com) to use these platforms.\n",
    "\n",
    "\n",
    "#### Option 2: Running on your computer locally\n",
    "\n",
    "To run the code on your computer locally, you'll need to set up [Python](https://www.python.org), download the notebook and install the required libraries. We recommend using the [Conda](https://docs.conda.io/projects/conda/en/latest/user-guide/install/) distribution of Python. Click the **Run** button at the top of this page, select the **Run Locally** option, and follow the instructions.\n",
    "\n"
   ]
  },
  {
   "cell_type": "markdown",
   "id": "polyphonic-brisbane",
   "metadata": {},
   "source": [
    "## Graphs in the Real World\n",
    "\n",
    "### Railway network\n",
    "\n",
    "![](https://i.imgur.com/uSF6AEJ.png)\n",
    "\n",
    "### Flight routes\n",
    "\n",
    "![](https://www.mapsales.com/products/mapsofworld/images/zoom/world-air-route-wall-map.gif)\n",
    "\n",
    "### Hyperlinks\n",
    "\n",
    "![](https://i.imgur.com/hlGDYn2.png)"
   ]
  },
  {
   "cell_type": "markdown",
   "id": "stretch-superior",
   "metadata": {},
   "source": [
    "## Graph Data Strucutre\n",
    "\n",
    "![](https://i.imgur.com/xkgMnwx.png)\n",
    "\n"
   ]
  },
  {
   "cell_type": "code",
   "execution_count": 180,
   "id": "settled-medicaid",
   "metadata": {},
   "outputs": [
    {
     "name": "stdout",
     "output_type": "stream",
     "text": [
      "Nodes Present: 5\n",
      "Number of edges: 7\n"
     ]
    }
   ],
   "source": [
    "nodes = 5\n",
    "edges = [(0, 1), (0, 4), (1, 2), (1, 4), (1, 3), (2, 3), (3, 4)]\n",
    "print(f\"Nodes Present: {nodes}\\nNumber of edges: {len(edges)}\")"
   ]
  },
  {
   "cell_type": "markdown",
   "id": "white-outdoors",
   "metadata": {},
   "source": [
    "### Adjacency Lists\n",
    "\n",
    "![](https://i.imgur.com/rgMwkIW.png)\n",
    "\n",
    "**Question**: Create a class to represent a graph as an adjacency list in Python"
   ]
  },
  {
   "cell_type": "code",
   "execution_count": 181,
   "id": "premium-prison",
   "metadata": {},
   "outputs": [],
   "source": [
    "class AdjaListGraph:\n",
    "\n",
    "    def __init__(self, nodes, edges):\n",
    "        self.nodes = nodes\n",
    "        self.data = [[] for _ in range(nodes)]\n",
    "        \n",
    "        for n1, n2 in edges:\n",
    "            self.data[n1].append(n2)\n",
    "            self.data[n2].append(n1)\n",
    "\n",
    "    def __repr__(self):\n",
    "        return \"\\n\".join([\"{}: {}\". format(n, neighbors) for n, neighbors in enumerate(self.data)])\n",
    "\n",
    "    def __str__(self):\n",
    "        return self.__repr__()"
   ]
  },
  {
   "cell_type": "code",
   "execution_count": 182,
   "id": "improving-section",
   "metadata": {},
   "outputs": [],
   "source": [
    "graph1 = AdjaListGraph(nodes, edges)"
   ]
  },
  {
   "cell_type": "code",
   "execution_count": 183,
   "id": "speaking-routine",
   "metadata": {},
   "outputs": [
    {
     "data": {
      "text/plain": [
       "0: [1, 4]\n",
       "1: [0, 2, 4, 3]\n",
       "2: [1, 3]\n",
       "3: [1, 2, 4]\n",
       "4: [0, 1, 3]"
      ]
     },
     "execution_count": 183,
     "metadata": {},
     "output_type": "execute_result"
    }
   ],
   "source": [
    "graph1"
   ]
  },
  {
   "cell_type": "markdown",
   "id": "f416ad45",
   "metadata": {},
   "source": [
    "**Question**: Write a function to add an edge to a graph represented as an adjacency list. "
   ]
  },
  {
   "cell_type": "code",
   "execution_count": 184,
   "id": "viral-pendant",
   "metadata": {},
   "outputs": [],
   "source": [
    "def add_edge(graph, n1, n2):\n",
    "    graph.data[n1].append(n2)\n",
    "    graph.data[n2].append(n1)"
   ]
  },
  {
   "cell_type": "code",
   "execution_count": 185,
   "id": "d568ecb7",
   "metadata": {},
   "outputs": [],
   "source": [
    "add_edge(graph1, 0, 2)"
   ]
  },
  {
   "cell_type": "code",
   "execution_count": 186,
   "id": "8acb6377",
   "metadata": {},
   "outputs": [
    {
     "data": {
      "text/plain": [
       "0: [1, 4, 2]\n",
       "1: [0, 2, 4, 3]\n",
       "2: [1, 3, 0]\n",
       "3: [1, 2, 4]\n",
       "4: [0, 1, 3]"
      ]
     },
     "execution_count": 186,
     "metadata": {},
     "output_type": "execute_result"
    }
   ],
   "source": [
    "graph1"
   ]
  },
  {
   "cell_type": "markdown",
   "id": "english-action",
   "metadata": {},
   "source": [
    "**Question**: Write a function to remove an edge from a graph represented as a adjacency list.\n"
   ]
  },
  {
   "cell_type": "code",
   "execution_count": 187,
   "id": "signed-manor",
   "metadata": {},
   "outputs": [],
   "source": [
    "def remove_edge(graph, n1, n2):\n",
    "    graph.data[n1].remove(n2)\n",
    "    graph.data[n2].remove(n1)"
   ]
  },
  {
   "cell_type": "code",
   "execution_count": 188,
   "id": "12ad733f",
   "metadata": {},
   "outputs": [],
   "source": [
    "remove_edge(graph1, 0, 2)"
   ]
  },
  {
   "cell_type": "code",
   "execution_count": 189,
   "id": "c4c1718b",
   "metadata": {},
   "outputs": [
    {
     "data": {
      "text/plain": [
       "0: [1, 4]\n",
       "1: [0, 2, 4, 3]\n",
       "2: [1, 3]\n",
       "3: [1, 2, 4]\n",
       "4: [0, 1, 3]"
      ]
     },
     "execution_count": 189,
     "metadata": {},
     "output_type": "execute_result"
    }
   ],
   "source": [
    "graph1"
   ]
  },
  {
   "cell_type": "code",
   "execution_count": 190,
   "id": "nasty-alberta",
   "metadata": {},
   "outputs": [],
   "source": [
    "# %pip install jovian --upgrade --quiet"
   ]
  },
  {
   "cell_type": "code",
   "execution_count": 191,
   "id": "renewable-consumption",
   "metadata": {},
   "outputs": [],
   "source": [
    "import jovian"
   ]
  },
  {
   "cell_type": "code",
   "execution_count": 192,
   "id": "c28d5742",
   "metadata": {},
   "outputs": [],
   "source": [
    "project, filename = 'python-graph-algorithms', 'python-graph-algorithms.ipynb'"
   ]
  },
  {
   "cell_type": "code",
   "execution_count": 193,
   "id": "collaborative-reduction",
   "metadata": {},
   "outputs": [],
   "source": [
    "# jovian.commit(project=project, filename=filename)"
   ]
  },
  {
   "attachments": {},
   "cell_type": "markdown",
   "id": "potential-native",
   "metadata": {},
   "source": [
    "### Adjacency Matrix\n",
    "\n",
    "![](https://i.imgur.com/oswYKTW.png)\n",
    "\n",
    "**Question**: Represent a graph as an adjacency matrix in Python"
   ]
  },
  {
   "cell_type": "code",
   "execution_count": 194,
   "id": "sensitive-iraqi",
   "metadata": {},
   "outputs": [],
   "source": [
    "class AdjaMatrixGraph:\n",
    "\n",
    "    def __init__(self, nodes, edges):\n",
    "        self.nodes = nodes\n",
    "        self.table = [[0 for _ in range(nodes)] for _ in range(nodes)]\n",
    "\n",
    "        for n1, n2 in edges:\n",
    "            self.table[n1][n2] = 1 + self.table[n1][n2]\n",
    "            self.table[n2][n1] = 1 + self.table[n2][n1]\n",
    "\n",
    "    def __repr__(self):\n",
    "        return \"\\n\".join([\"{}: {}\".format(i, node) for i, node in enumerate(self.table)])\n",
    "\n",
    "    def __str__(self):\n",
    "        return self.__repr__()"
   ]
  },
  {
   "cell_type": "code",
   "execution_count": 195,
   "id": "b757a34c",
   "metadata": {},
   "outputs": [],
   "source": [
    "graph2 = AdjaMatrixGraph(nodes, edges)"
   ]
  },
  {
   "cell_type": "code",
   "execution_count": 196,
   "id": "alleged-means",
   "metadata": {},
   "outputs": [
    {
     "data": {
      "text/plain": [
       "0: [0, 1, 0, 0, 1]\n",
       "1: [1, 0, 1, 1, 1]\n",
       "2: [0, 1, 0, 1, 0]\n",
       "3: [0, 1, 1, 0, 1]\n",
       "4: [1, 1, 0, 1, 0]"
      ]
     },
     "execution_count": 196,
     "metadata": {},
     "output_type": "execute_result"
    }
   ],
   "source": [
    "graph2"
   ]
  },
  {
   "cell_type": "markdown",
   "id": "1b390b92",
   "metadata": {},
   "source": [
    "**Question**: Write a function to add an edge from a graph represented as a adjacency matrix.\n"
   ]
  },
  {
   "cell_type": "code",
   "execution_count": 197,
   "id": "modified-check",
   "metadata": {},
   "outputs": [],
   "source": [
    "def add_edge(graph, n1, n2):\n",
    "    if graph.table[n1][n2] < 1:\n",
    "        if graph.table[n2][n1] < 1:\n",
    "            graph.table[n1][n2] = 1 + graph.table[n1][n2]\n",
    "            graph.table[n2][n1] = 1 + graph.table[n2][n1]\n",
    "\n",
    "    else:\n",
    "        return \"Edge cannot be added, it may already exist. Check your nodes.\""
   ]
  },
  {
   "cell_type": "code",
   "execution_count": 198,
   "id": "tutorial-massage",
   "metadata": {},
   "outputs": [],
   "source": [
    "add_edge(graph2, 0, 3)"
   ]
  },
  {
   "cell_type": "code",
   "execution_count": 199,
   "id": "a2b21068",
   "metadata": {},
   "outputs": [
    {
     "data": {
      "text/plain": [
       "0: [0, 1, 0, 1, 1]\n",
       "1: [1, 0, 1, 1, 1]\n",
       "2: [0, 1, 0, 1, 0]\n",
       "3: [1, 1, 1, 0, 1]\n",
       "4: [1, 1, 0, 1, 0]"
      ]
     },
     "execution_count": 199,
     "metadata": {},
     "output_type": "execute_result"
    }
   ],
   "source": [
    "graph2"
   ]
  },
  {
   "cell_type": "code",
   "execution_count": 200,
   "id": "ddeff455",
   "metadata": {},
   "outputs": [
    {
     "data": {
      "text/plain": [
       "'Edge cannot be added, it may already exist. Check your nodes.'"
      ]
     },
     "execution_count": 200,
     "metadata": {},
     "output_type": "execute_result"
    }
   ],
   "source": [
    "add_edge(graph2, 0, 3)"
   ]
  },
  {
   "cell_type": "code",
   "execution_count": 201,
   "id": "e664ba25",
   "metadata": {},
   "outputs": [
    {
     "data": {
      "text/plain": [
       "0: [0, 1, 0, 1, 1]\n",
       "1: [1, 0, 1, 1, 1]\n",
       "2: [0, 1, 0, 1, 0]\n",
       "3: [1, 1, 1, 0, 1]\n",
       "4: [1, 1, 0, 1, 0]"
      ]
     },
     "execution_count": 201,
     "metadata": {},
     "output_type": "execute_result"
    }
   ],
   "source": [
    "graph2"
   ]
  },
  {
   "cell_type": "markdown",
   "id": "150ea1ab",
   "metadata": {},
   "source": [
    "**Question**: Write a function to remove an edge from a graph represented as a adjacency matrix.\n"
   ]
  },
  {
   "cell_type": "code",
   "execution_count": 202,
   "id": "common-gossip",
   "metadata": {},
   "outputs": [],
   "source": [
    "def remove_edge(graph, n1, n2):\n",
    "    if graph.table[n1][n2] and graph.table[n2][n1] > 0:\n",
    "        graph.table[n1][n2] = graph.table[n1][n2] - 1\n",
    "        graph.table[n2][n1] = graph.table[n2][n1] - 1\n",
    "\n",
    "    else:\n",
    "        return \"This edge does not exist.\""
   ]
  },
  {
   "cell_type": "code",
   "execution_count": 203,
   "id": "1c190036",
   "metadata": {},
   "outputs": [],
   "source": [
    "remove_edge(graph2, 0, 3)"
   ]
  },
  {
   "cell_type": "code",
   "execution_count": 204,
   "id": "b903b01c",
   "metadata": {},
   "outputs": [
    {
     "data": {
      "text/plain": [
       "0: [0, 1, 0, 0, 1]\n",
       "1: [1, 0, 1, 1, 1]\n",
       "2: [0, 1, 0, 1, 0]\n",
       "3: [0, 1, 1, 0, 1]\n",
       "4: [1, 1, 0, 1, 0]"
      ]
     },
     "execution_count": 204,
     "metadata": {},
     "output_type": "execute_result"
    }
   ],
   "source": [
    "graph2"
   ]
  },
  {
   "cell_type": "code",
   "execution_count": 205,
   "id": "215de81a",
   "metadata": {},
   "outputs": [],
   "source": [
    "# jovian.commit(project=project, filename=filename)"
   ]
  },
  {
   "attachments": {},
   "cell_type": "markdown",
   "id": "spatial-howard",
   "metadata": {},
   "source": [
    "## Graph Traversal\n",
    "\n",
    "\n",
    "### Breadth-First Search\n",
    "\n",
    "A real-world graph:\n",
    "\n",
    "![](https://upload.wikimedia.org/wikipedia/commons/thumb/a/ad/MapGermanyGraph.svg/500px-MapGermanyGraph.svg.png)\n",
    "\n",
    "Breadth-fist search tree (starting from Frankfurt):\n",
    "\n",
    "![](https://upload.wikimedia.org/wikipedia/commons/thumb/6/63/GermanyBFS.svg/500px-GermanyBFS.svg.png)\n",
    "\n",
    "**Question**: Implement breadth-first search given a source node in a graph using Python.\n",
    "\n",
    "\n",
    "<img src=\"https://i.imgur.com/E2Up1Pk.png\" width=\"400\">\n",
    "\n",
    "BFS pseudocode (Wikipedia):\n",
    "\n",
    "```\n",
    " 1  procedure BFS(G, root) is\n",
    " 2      let Q be a queue\n",
    " 3      label root as discovered\n",
    " 4      Q.enqueue(root)\n",
    " 5      while Q is not empty do\n",
    " 6          v := Q.dequeue()\n",
    " 7          if v is the goal then\n",
    " 8              return v\n",
    " 9          for all edges from v to w in G.adjacentEdges(v) do\n",
    "10              if w is not labeled as discovered then\n",
    "11                  label w as discovered\n",
    "12                  Q.enqueue(w)\n",
    "```\n",
    "\n"
   ]
  },
  {
   "cell_type": "code",
   "execution_count": 206,
   "id": "electoral-religious",
   "metadata": {},
   "outputs": [],
   "source": [
    "def bfs(graph, root):\n",
    "    queue = []\n",
    "    discovered = [False] * len(graph.data)\n",
    "    distance = [None] * len(graph.data)\n",
    "    parent = [None] * len(graph.data)\n",
    "\n",
    "    discovered[root] = True\n",
    "    queue.append(root)\n",
    "    distance[root] = 0\n",
    "    idx = 0\n",
    "\n",
    "    while idx < len(queue):\n",
    "        # dequeue\n",
    "        current = queue[idx]\n",
    "        idx += 1\n",
    "\n",
    "        # check all edges of current node\n",
    "        for node in graph.data[current]:\n",
    "            if not discovered[node]:\n",
    "                distance[node] = 1 + distance[current]\n",
    "                parent[node] = current\n",
    "                discovered[node] = True\n",
    "                queue.append(node)\n",
    "\n",
    "    return print(\n",
    "        f\"Path: {queue}\\nParents: {parent}\\nDistance Travled: {distance}\"\n",
    "    )"
   ]
  },
  {
   "cell_type": "markdown",
   "id": "czech-encounter",
   "metadata": {},
   "source": [
    "<img src=\"https://cdn.programiz.com/sites/tutorial2program/files/queue-implementation.png\" width=\"400\">"
   ]
  },
  {
   "cell_type": "code",
   "execution_count": 207,
   "id": "animated-physiology",
   "metadata": {},
   "outputs": [
    {
     "name": "stdout",
     "output_type": "stream",
     "text": [
      "Path: [3, 1, 2, 4, 0]\n",
      "Parents: [1, 3, 3, None, 3]\n",
      "Distance Travled: [2, 1, 1, 0, 1]\n"
     ]
    }
   ],
   "source": [
    "bfs(graph1, 3)"
   ]
  },
  {
   "cell_type": "code",
   "execution_count": 208,
   "id": "portuguese-consequence",
   "metadata": {},
   "outputs": [],
   "source": [
    "# jovian.commit(project=project, filename=filename)"
   ]
  },
  {
   "cell_type": "markdown",
   "id": "synthetic-defense",
   "metadata": {},
   "source": [
    "**Question**: Write a program to check if all the nodes in a graph are connected\n",
    "\n",
    "![](http://www.martinbroadhurst.com/images/connected_components.png)"
   ]
  },
  {
   "cell_type": "code",
   "execution_count": 209,
   "id": "premium-cincinnati",
   "metadata": {},
   "outputs": [
    {
     "data": {
      "text/plain": [
       "(9, 8)"
      ]
     },
     "execution_count": 209,
     "metadata": {},
     "output_type": "execute_result"
    }
   ],
   "source": [
    "num_nodes3 = 9\n",
    "edges3 = [(0, 1), (0, 3), (1, 2), (2, 3), (4, 5), (4, 6), (5, 6), (7, 8)]\n",
    "num_nodes3, len(edges3)"
   ]
  },
  {
   "cell_type": "code",
   "execution_count": 210,
   "id": "dominican-louisville",
   "metadata": {},
   "outputs": [],
   "source": [
    "def is_connected(graph, root):\n",
    "    queue = []\n",
    "    discovered = [False] * len(graph.data)\n",
    "\n",
    "    discovered[root] = True\n",
    "    queue.append(root)\n",
    "    idx = 0\n",
    "\n",
    "    while idx < len(queue):\n",
    "        current = queue[idx]\n",
    "        idx += 1\n",
    "\n",
    "        # check all edges of current node\n",
    "        for node in graph.data[current]:\n",
    "            if not discovered[node]:\n",
    "                discovered[node] = True\n",
    "                queue.append(node)\n",
    "\n",
    "    # check if all nodes where discovered through bfs\n",
    "    return discovered[-1]"
   ]
  },
  {
   "cell_type": "code",
   "execution_count": 211,
   "id": "agreed-damage",
   "metadata": {},
   "outputs": [
    {
     "data": {
      "text/plain": [
       "0: [1, 3]\n",
       "1: [0, 2]\n",
       "2: [1, 3]\n",
       "3: [0, 2]\n",
       "4: [5, 6]\n",
       "5: [4, 6]\n",
       "6: [4, 5]\n",
       "7: [8]\n",
       "8: [7]"
      ]
     },
     "execution_count": 211,
     "metadata": {},
     "output_type": "execute_result"
    }
   ],
   "source": [
    "graph3 = AdjaListGraph(num_nodes3, edges3)\n",
    "graph3"
   ]
  },
  {
   "cell_type": "code",
   "execution_count": 212,
   "id": "greatest-selection",
   "metadata": {},
   "outputs": [
    {
     "data": {
      "text/plain": [
       "False"
      ]
     },
     "execution_count": 212,
     "metadata": {},
     "output_type": "execute_result"
    }
   ],
   "source": [
    "is_connected(graph3, 0)"
   ]
  },
  {
   "cell_type": "code",
   "execution_count": 213,
   "id": "proper-personality",
   "metadata": {},
   "outputs": [
    {
     "data": {
      "text/plain": [
       "True"
      ]
     },
     "execution_count": 213,
     "metadata": {},
     "output_type": "execute_result"
    }
   ],
   "source": [
    "is_connected(graph1, 0)"
   ]
  },
  {
   "cell_type": "code",
   "execution_count": 214,
   "id": "595c64f4",
   "metadata": {},
   "outputs": [],
   "source": [
    "# jovian.commit(project=project, filename=filename)"
   ]
  },
  {
   "cell_type": "markdown",
   "id": "parliamentary-veteran",
   "metadata": {},
   "source": [
    "## Depth-first search\n",
    "\n",
    "![](https://upload.wikimedia.org/wikipedia/commons/thumb/7/7f/Depth-First-Search.gif/440px-Depth-First-Search.gif)\n",
    "\n",
    "**Question**: Implement depth first search from a given node in a graph using Python.\n",
    "\n",
    "<img src=\"https://i.imgur.com/E2Up1Pk.png\" width=\"400\">\n",
    "\n",
    "DFS pseudocode (Wikipedia):\n",
    "\n",
    "```\n",
    "procedure DFS_iterative(G, v) is\n",
    "    let S be a stack\n",
    "    S.push(v)\n",
    "    while S is not empty do\n",
    "        v = S.pop()\n",
    "        if v is not labeled as discovered then\n",
    "            label v as discovered\n",
    "            for all edges from v to w in G.adjacentEdges(v) do \n",
    "                S.push(w)\n",
    "```\n",
    "\n",
    "\n"
   ]
  },
  {
   "cell_type": "code",
   "execution_count": 215,
   "id": "elect-montana",
   "metadata": {},
   "outputs": [],
   "source": [
    "def dfs(graph, root):\n",
    "    stack = []\n",
    "    discovered = [False] * len(graph.data)\n",
    "    parent = [None] * len(graph.data)\n",
    "    result = []\n",
    "    distance = 0\n",
    "\n",
    "    stack.append(root)\n",
    "\n",
    "    while stack:\n",
    "        current = stack.pop()\n",
    "        if not discovered[current]:\n",
    "            discovered[current] = True\n",
    "            result.append(current)\n",
    "            distance += 1\n",
    "            for node in graph.data[current]:\n",
    "                if not discovered[node]:\n",
    "                    parent[node] = current\n",
    "                    stack.append(node)\n",
    "                    \n",
    "    return print(\n",
    "        f\"Path: {result}\\nParents: {parent}\\nDistance Travled: {distance}\"\n",
    "    )"
   ]
  },
  {
   "cell_type": "markdown",
   "id": "descending-amber",
   "metadata": {},
   "source": [
    "<img src=\"https://cdn.programiz.com/sites/tutorial2program/files/stack.png\" width=\"400\">"
   ]
  },
  {
   "cell_type": "markdown",
   "id": "455e7118",
   "metadata": {},
   "source": [
    "<img src=\"https://i.imgur.com/E2Up1Pk.png\" width=\"400\">"
   ]
  },
  {
   "cell_type": "code",
   "execution_count": 216,
   "id": "informal-christmas",
   "metadata": {},
   "outputs": [
    {
     "name": "stdout",
     "output_type": "stream",
     "text": [
      "Path: [3, 4, 1, 2, 0]\n",
      "Parents: [1, 4, 1, None, 3]\n",
      "Distance Travled: 5\n"
     ]
    }
   ],
   "source": [
    "dfs(graph1, 3)"
   ]
  },
  {
   "cell_type": "code",
   "execution_count": 217,
   "id": "hungry-increase",
   "metadata": {},
   "outputs": [],
   "source": [
    "# jovian.commit(project=project, filename=filename)"
   ]
  },
  {
   "cell_type": "markdown",
   "id": "together-blogger",
   "metadata": {},
   "source": [
    "**Question**: Write a function to detect a cycle in a graph\n",
    "\n",
    "![](https://tutorialspoint.dev/image/cycleGraph.png)"
   ]
  },
  {
   "cell_type": "code",
   "execution_count": 218,
   "id": "small-buyer",
   "metadata": {},
   "outputs": [],
   "source": [
    "def has_cycles(graph,root, cycles=False):\n",
    "    stack = []\n",
    "    discovered = [False] * len(graph.data)\n",
    "    parent = [None] * len(graph.data)\n",
    "\n",
    "    stack.append(root)\n",
    "\n",
    "    while stack:\n",
    "        current = stack.pop()\n",
    "        if not discovered[current]:\n",
    "            discovered[current] = True\n",
    "            for node in graph.data[current]:\n",
    "                if not discovered[node]:\n",
    "                    parent[node] = current\n",
    "                    stack.append(node)\n",
    "\n",
    "    for node in parent:\n",
    "        cycles = parent.count(node) <= 1\n",
    "        \n",
    "    return cycles"
   ]
  },
  {
   "cell_type": "code",
   "execution_count": 219,
   "id": "daily-warrior",
   "metadata": {},
   "outputs": [
    {
     "data": {
      "text/plain": [
       "True"
      ]
     },
     "execution_count": 219,
     "metadata": {},
     "output_type": "execute_result"
    }
   ],
   "source": [
    "has_cycles(graph1, 3)"
   ]
  },
  {
   "cell_type": "code",
   "execution_count": 220,
   "id": "dried-reform",
   "metadata": {},
   "outputs": [],
   "source": [
    "no_cycles_nums = 6\n",
    "no_cycles_edges = [(0,1), (2,3), (4,5)]\n",
    "\n",
    "no_cycles_graph = AdjaListGraph(no_cycles_nums, no_cycles_edges)"
   ]
  },
  {
   "cell_type": "code",
   "execution_count": 221,
   "id": "83ece85b",
   "metadata": {},
   "outputs": [
    {
     "data": {
      "text/plain": [
       "False"
      ]
     },
     "execution_count": 221,
     "metadata": {},
     "output_type": "execute_result"
    }
   ],
   "source": [
    "has_cycles(no_cycles_graph, 0)"
   ]
  },
  {
   "cell_type": "code",
   "execution_count": 222,
   "id": "20a192f4",
   "metadata": {},
   "outputs": [],
   "source": [
    "# jovian.commit(project=project, filename=filename)"
   ]
  },
  {
   "cell_type": "markdown",
   "id": "broke-carroll",
   "metadata": {},
   "source": [
    "### Weighted Graphs\n",
    "\n",
    "![](https://i.imgur.com/wy7ZHRW.png)\n",
    "\n"
   ]
  },
  {
   "cell_type": "code",
   "execution_count": 223,
   "id": "eligible-equipment",
   "metadata": {},
   "outputs": [
    {
     "data": {
      "text/plain": [
       "(9, 10)"
      ]
     },
     "execution_count": 223,
     "metadata": {},
     "output_type": "execute_result"
    }
   ],
   "source": [
    "# Graph with weights\n",
    "num_nodes5 = 9\n",
    "edges5 = [(0, 1, 3), (0, 3, 2), (0, 8, 4), (1, 7, 4), (2, 7, 2), (2, 3, 6), \n",
    "          (2, 5, 1), (3, 4, 1), (4, 8, 8), (5, 6, 8)]\n",
    "\n",
    "num_nodes5, len(edges5)"
   ]
  },
  {
   "cell_type": "markdown",
   "id": "abstract-return",
   "metadata": {},
   "source": [
    "### Directed Graphs\n",
    "\n",
    "<img src=\"https://i.imgur.com/8AN7EUV.png\" width=\"480\">"
   ]
  },
  {
   "cell_type": "code",
   "execution_count": 224,
   "id": "fitted-kruger",
   "metadata": {},
   "outputs": [
    {
     "data": {
      "text/plain": [
       "(5, 6)"
      ]
     },
     "execution_count": 224,
     "metadata": {},
     "output_type": "execute_result"
    }
   ],
   "source": [
    "num_nodes6 = 5\n",
    "edges6 = [(0, 1), (1, 2), (2, 3), (2, 4), (4, 2), (3, 0)]\n",
    "num_nodes6, len(edges6)"
   ]
  },
  {
   "cell_type": "markdown",
   "id": "saved-pittsburgh",
   "metadata": {},
   "source": [
    "**Question**: Define a class to represent weighted and directed graphs in Python."
   ]
  },
  {
   "cell_type": "code",
   "execution_count": 225,
   "id": "affected-essence",
   "metadata": {},
   "outputs": [],
   "source": [
    "class Graph:\n",
    "\n",
    "    def __init__(self, nodes, edges, directed=False, weighted=False):\n",
    "        self.nodes = nodes\n",
    "        self.directed = directed\n",
    "        self.weighted = weighted\n",
    "        self.data = [[] for _ in range(nodes)]\n",
    "        self.weight = [[] for _ in range(nodes)]\n",
    "\n",
    "        for e in edges:\n",
    "            if self.weighted:\n",
    "                # include weights\n",
    "                node1, node2, weight = e\n",
    "                self.data[node1].append(node2)\n",
    "                self.weight[node1].append(weight)\n",
    "\n",
    "                if not directed:\n",
    "                    self.data[node2].append(node1)\n",
    "                    self.weight[node2].append(weight)\n",
    "\n",
    "            else:\n",
    "                # work without weights\n",
    "                node1, node2 = e\n",
    "                self.data[node1].append(node2)\n",
    "                if not directed:\n",
    "                    self.data[node2].append(node1)\n",
    "\n",
    "    def __repr__(self):\n",
    "        result = \"\"\n",
    "        if self.weighted:\n",
    "            for i, (nodes, weights) in enumerate(zip(self.data, self.weight)):\n",
    "                result += \"{}: {}\\n\".format(i, list(zip(nodes, weights)))\n",
    "        else:\n",
    "            for i, nodes in enumerate(self.data):\n",
    "                result += \"{}: {}\\n\".format(i, nodes)\n",
    "\n",
    "        return result"
   ]
  },
  {
   "cell_type": "code",
   "execution_count": 226,
   "id": "promotional-fiction",
   "metadata": {},
   "outputs": [
    {
     "data": {
      "text/plain": [
       "0: [1, 4]\n",
       "1: [0, 2, 4, 3]\n",
       "2: [1, 3]\n",
       "3: [1, 2, 4]\n",
       "4: [0, 1, 3]"
      ]
     },
     "execution_count": 226,
     "metadata": {},
     "output_type": "execute_result"
    }
   ],
   "source": [
    "graph1 = Graph(nodes, edges)\n",
    "graph1"
   ]
  },
  {
   "cell_type": "code",
   "execution_count": 227,
   "id": "virgin-impact",
   "metadata": {},
   "outputs": [
    {
     "data": {
      "text/plain": [
       "0: [(1, 3), (3, 2), (8, 4)]\n",
       "1: [(0, 3), (7, 4)]\n",
       "2: [(7, 2), (3, 6), (5, 1)]\n",
       "3: [(0, 2), (2, 6), (4, 1)]\n",
       "4: [(3, 1), (8, 8)]\n",
       "5: [(2, 1), (6, 8)]\n",
       "6: [(5, 8)]\n",
       "7: [(1, 4), (2, 2)]\n",
       "8: [(0, 4), (4, 8)]"
      ]
     },
     "execution_count": 227,
     "metadata": {},
     "output_type": "execute_result"
    }
   ],
   "source": [
    "graph2 = Graph(num_nodes5, edges5, weighted=True)\n",
    "graph2"
   ]
  },
  {
   "cell_type": "code",
   "execution_count": 228,
   "id": "5cea96c4",
   "metadata": {},
   "outputs": [
    {
     "data": {
      "text/plain": [
       "0: [1]\n",
       "1: [2]\n",
       "2: [3, 4]\n",
       "3: [0]\n",
       "4: [2]"
      ]
     },
     "execution_count": 228,
     "metadata": {},
     "output_type": "execute_result"
    }
   ],
   "source": [
    "graph3 = Graph(num_nodes6, edges6, directed=True)\n",
    "graph3"
   ]
  },
  {
   "cell_type": "code",
   "execution_count": 229,
   "id": "9eaf83ad",
   "metadata": {},
   "outputs": [],
   "source": [
    "# jovian.commit(project=project, filename=filename)"
   ]
  },
  {
   "attachments": {},
   "cell_type": "markdown",
   "id": "posted-peripheral",
   "metadata": {},
   "source": [
    "## Shortest Paths\n",
    "\n",
    "\n",
    "**Question**: Write a function to find the length of the shortest path between two nodes in a weighted directed graph.\n",
    "\n",
    "<img src=\"https://i.imgur.com/Zn5cUkO.png\" width=\"480\">\n",
    "\n",
    "\n",
    "**Dijkstra's algorithm (Wikipedia)**:\n",
    "\n",
    "![](https://upload.wikimedia.org/wikipedia/commons/5/57/Dijkstra_Animation.gif)\n",
    "\n",
    "1. Mark all nodes unvisited. Create a set of all the unvisited nodes called the unvisited set.\n",
    "2. Assign to every node a tentative distance value: set it to zero for our initial node and to infinity for all other nodes. Set the initial node as current.[16]\n",
    "3. For the current node, consider all of its unvisited neighbours and calculate their tentative distances through the current node. Compare the newly calculated tentative distance to the current assigned value and assign the smaller one. For example, if the current node A is marked with a distance of 6, and the edge connecting it with a neighbour B has length 2, then the distance to B through A will be 6 + 2 = 8. If B was previously marked with a distance greater than 8 then change it to 8. Otherwise, the current value will be kept.\n",
    "4. When we are done considering all of the unvisited neighbours of the current node, mark the current node as visited and remove it from the unvisited set. A visited node will never be checked again.\n",
    "5. If the destination node has been marked visited (when planning a route between two specific nodes) or if the smallest tentative distance among the nodes in the unvisited set is infinity (when planning a complete traversal; occurs when there is no connection between the initial node and remaining unvisited nodes), then stop. The algorithm has finished.\n",
    "6. Otherwise, select the unvisited node that is marked with the smallest tentative distance, set it as the new \"current node\", and go back to step 3."
   ]
  },
  {
   "cell_type": "code",
   "execution_count": 230,
   "id": "certain-today",
   "metadata": {},
   "outputs": [],
   "source": [
    "def shortest_path(graph, source, target):\n",
    "    visited = [False] * len(graph.data)\n",
    "    parent = [None] * len(graph.data)\n",
    "    distance = [float('inf')] * len(graph.data)\n",
    "    queue = []\n",
    "\n",
    "    distance[source] = 0\n",
    "    queue.append(source)\n",
    "    idx = 0\n",
    "\n",
    "    while idx < len(queue) and not visited[target]:\n",
    "        current = queue[idx]\n",
    "        visited[current] = True\n",
    "        idx += 1\n",
    "\n",
    "        update_distances(graph, current, distance, parent)\n",
    "        next_node = pick_next_node(distance, visited)\n",
    "\n",
    "        if next_node:\n",
    "            queue.append(next_node)\n",
    "\n",
    "    return distance[target], parent\n",
    "\n",
    "\n",
    "def update_distances(graph, current, distance, parent=None):\n",
    "    \"\"\"Update the distances of the current node's neighbors\"\"\"\n",
    "    neighbors = graph.data[current]\n",
    "    weights = graph.weight[current]\n",
    "    for i, node in enumerate(neighbors):\n",
    "        weight = weights[i]\n",
    "        if distance[current] + weight < distance[node]:\n",
    "            distance[node] = distance[current] + weight\n",
    "            if parent:\n",
    "                parent[node] = current\n",
    "\n",
    "def pick_next_node(distance, visited):\n",
    "    \"\"\"Pick the next univisited node at the smallest distance\"\"\"\n",
    "    min_distance = float('inf')\n",
    "    min_node = None\n",
    "    for node in range(len(distance)):\n",
    "        if not visited[node] and distance[node] < min_distance:\n",
    "            min_node = node\n",
    "            min_distance = distance[node]\n",
    "    return min_node"
   ]
  },
  {
   "cell_type": "code",
   "execution_count": 231,
   "id": "adopted-creek",
   "metadata": {},
   "outputs": [
    {
     "data": {
      "text/plain": [
       "(6, 7)"
      ]
     },
     "execution_count": 231,
     "metadata": {},
     "output_type": "execute_result"
    }
   ],
   "source": [
    "num_nodes7 = 6\n",
    "edges7 = [(0, 1, 4), (0, 2, 2), (1, 2, 5), (1, 3, 10), (2, 4, 3), (4, 3, 4), (3, 5, 11)]\n",
    "num_nodes7, len(edges7)"
   ]
  },
  {
   "cell_type": "code",
   "execution_count": 232,
   "id": "e28c5d69",
   "metadata": {},
   "outputs": [
    {
     "data": {
      "text/plain": [
       "0: [(1, 4), (2, 2)]\n",
       "1: [(2, 5), (3, 10)]\n",
       "2: [(4, 3)]\n",
       "3: [(5, 11)]\n",
       "4: [(3, 4)]\n",
       "5: []"
      ]
     },
     "execution_count": 232,
     "metadata": {},
     "output_type": "execute_result"
    }
   ],
   "source": [
    "graph4 = Graph(num_nodes7, edges7, weighted=True, directed=True)\n",
    "graph4"
   ]
  },
  {
   "cell_type": "code",
   "execution_count": 233,
   "id": "spatial-engagement",
   "metadata": {},
   "outputs": [
    {
     "data": {
      "text/plain": [
       "(20, [None, 0, 0, 4, 2, 3])"
      ]
     },
     "execution_count": 233,
     "metadata": {},
     "output_type": "execute_result"
    }
   ],
   "source": [
    "shortest_path(graph4, 0, 5)"
   ]
  },
  {
   "cell_type": "code",
   "execution_count": 234,
   "id": "specific-champagne",
   "metadata": {},
   "outputs": [
    {
     "data": {
      "text/plain": [
       "(7, [None, 0, 3, 0, 3, None, None, 1, 0])"
      ]
     },
     "execution_count": 234,
     "metadata": {},
     "output_type": "execute_result"
    }
   ],
   "source": [
    "shortest_path(graph2, 0, 7)"
   ]
  },
  {
   "cell_type": "code",
   "execution_count": 235,
   "id": "right-kenya",
   "metadata": {},
   "outputs": [
    {
     "data": {
      "text/plain": [
       "(15, [3, 7, None, 2, 3, 2, 5, 2, 4])"
      ]
     },
     "execution_count": 235,
     "metadata": {},
     "output_type": "execute_result"
    }
   ],
   "source": [
    "shortest_path(graph2, 2, 8)"
   ]
  },
  {
   "cell_type": "code",
   "execution_count": null,
   "id": "reserved-investor",
   "metadata": {},
   "outputs": [],
   "source": [
    "# jovian.commit(project=project, filename=filename)"
   ]
  },
  {
   "cell_type": "markdown",
   "id": "coordinate-circle",
   "metadata": {},
   "source": [
    "### Binary Heap\n",
    "\n",
    "A data structure to maintain the running minimum/maximum of a set of numbers, supporting efficient addition/removal.\n",
    "\n",
    "\n",
    "<img src=\"https://i.imgur.com/ABAcM7m.png\" width=\"400\">\n",
    "\n",
    "\n",
    "Heap operations:\n",
    "\n",
    "- Insertion - $O(log N)$\n",
    "- Min/Max - $O(1)$ (depending on type of heap)\n",
    "- Deletion - $O(log N)$\n",
    "- Convert a list to a heap - $O(n)$\n",
    "\n",
    "\n",
    "Python's built-in heap: https://docs.python.org/3/library/heapq.html\n",
    "\n",
    "**Question**: Implement Dijkstra's shortest path algorithm using the `heap` module from Python. What is the complexity of the algorithm?"
   ]
  },
  {
   "cell_type": "code",
   "execution_count": 236,
   "id": "e52664c4",
   "metadata": {},
   "outputs": [],
   "source": [
    "import heapq"
   ]
  },
  {
   "cell_type": "code",
   "execution_count": 238,
   "id": "north-administrator",
   "metadata": {},
   "outputs": [],
   "source": [
    "def shortest_path_heap(graph, source, target):\n",
    "    visited = [False] * len(graph.data)\n",
    "    parent = [None] * len(graph.data)\n",
    "    distance = [float('inf')] * len(graph.data)\n",
    "    queue = []\n",
    "\n",
    "    distance[source] = 0\n",
    "    heapq.heappush(queue, source)\n",
    "    idx = 0\n",
    "\n",
    "    while idx < len(queue) and not visited[target]:\n",
    "        current = queue[idx]\n",
    "        visited[current] = True\n",
    "        idx += 1\n",
    "\n",
    "        update_distances(graph, current, distance, parent)\n",
    "        next_node = pick_next_node(distance, visited)\n",
    "\n",
    "        if next_node:\n",
    "            heapq.heappush(queue, next_node)\n",
    "\n",
    "    return distance[target], parent\n"
   ]
  },
  {
   "cell_type": "code",
   "execution_count": 239,
   "id": "36c3bafa",
   "metadata": {},
   "outputs": [
    {
     "data": {
      "text/plain": [
       "(15, [3, 7, None, 2, 3, 2, 5, 2, 4])"
      ]
     },
     "execution_count": 239,
     "metadata": {},
     "output_type": "execute_result"
    }
   ],
   "source": [
    "shortest_path_heap(graph2, 2, 8)"
   ]
  },
  {
   "cell_type": "code",
   "execution_count": 241,
   "metadata": {},
   "outputs": [
    {
     "data": {
      "application/javascript": "window.require && require([\"base/js/namespace\"],function(Jupyter){Jupyter.notebook.save_checkpoint()})",
      "text/plain": [
       "<IPython.core.display.Javascript object>"
      ]
     },
     "metadata": {},
     "output_type": "display_data"
    },
    {
     "name": "stdout",
     "output_type": "stream",
     "text": [
      "[jovian] Updating notebook \"zoibderg/python-graph-algorithms\" on https://jovian.ai/\u001b[0m\n",
      "[jovian] Committed successfully! https://jovian.ai/zoibderg/python-graph-algorithms\u001b[0m\n"
     ]
    },
    {
     "data": {
      "text/plain": [
       "'https://jovian.ai/zoibderg/python-graph-algorithms'"
      ]
     },
     "execution_count": 241,
     "metadata": {},
     "output_type": "execute_result"
    }
   ],
   "source": [
    "# jovian.commit(project=project, filename=filename)"
   ]
  },
  {
   "cell_type": "markdown",
   "id": "pointed-diabetes",
   "metadata": {},
   "source": [
    "### More Problems\n",
    "\n",
    "Solve more graph problems here: https://leetcode.com/tag/graph/"
   ]
  },
  {
   "cell_type": "code",
   "execution_count": null,
   "id": "banner-canadian",
   "metadata": {},
   "outputs": [],
   "source": [
    "import jovian"
   ]
  },
  {
   "cell_type": "code",
   "execution_count": null,
   "id": "union-chambers",
   "metadata": {},
   "outputs": [],
   "source": [
    "jovian.commit()"
   ]
  },
  {
   "cell_type": "code",
   "execution_count": null,
   "id": "existing-hospital",
   "metadata": {},
   "outputs": [],
   "source": []
  },
  {
   "cell_type": "code",
   "execution_count": null,
   "id": "tribal-brand",
   "metadata": {},
   "outputs": [],
   "source": []
  },
  {
   "cell_type": "markdown",
   "id": "ethical-marathon",
   "metadata": {},
   "source": [
    "## Solutions\n",
    "\n",
    "![](https://i.imgur.com/E2Up1Pk.png)"
   ]
  },
  {
   "cell_type": "markdown",
   "id": "desirable-possibility",
   "metadata": {},
   "source": [
    "### Input Data"
   ]
  },
  {
   "cell_type": "code",
   "execution_count": null,
   "id": "according-lunch",
   "metadata": {},
   "outputs": [],
   "source": [
    "num_nodes1 = 5\n",
    "edges1 = [(0, 1), (1, 2), (2, 3), (3, 4), (4, 0), (1, 4), (1, 3)]\n",
    "num_nodes1, len(edges1)"
   ]
  },
  {
   "cell_type": "code",
   "execution_count": null,
   "id": "italian-armor",
   "metadata": {},
   "outputs": [],
   "source": [
    "num_nodes3 = 9\n",
    "edges3 = [(0, 1), (0, 3), (1, 2), (2, 3), (4, 5), (4, 6), (5, 6), (7, 8)]\n",
    "num_nodes3, len(edges3)"
   ]
  },
  {
   "cell_type": "code",
   "execution_count": null,
   "id": "strategic-deposit",
   "metadata": {},
   "outputs": [],
   "source": [
    "num_nodes5 = 9\n",
    "edges5 = [(0, 1, 3), (0, 3, 2), (0, 8, 4), (1, 7, 4), (2, 7, 2), (2, 3, 6), \n",
    "          (2, 5, 1), (3, 4, 1), (4, 8, 8), (5, 6, 8)]\n",
    "\n",
    "num_nodes5, len(edges5)"
   ]
  },
  {
   "cell_type": "code",
   "execution_count": null,
   "id": "broke-hungarian",
   "metadata": {},
   "outputs": [],
   "source": [
    "# Directed graph\n",
    "num_nodes6 = 5\n",
    "edges6 = [(0, 1), (1, 2), (2, 3), (2, 4), (4, 2), (3, 0)]\n",
    "num_nodes6, len(edges6)"
   ]
  },
  {
   "cell_type": "code",
   "execution_count": null,
   "id": "instructional-sarah",
   "metadata": {},
   "outputs": [],
   "source": [
    "num_nodes7 = 6\n",
    "edges7 = [(0, 1, 4), (0, 2, 2), (1, 2, 5), (1, 3, 10), (2, 4, 3), (4, 3, 4), (3, 5, 11)]\n",
    "num_nodes7, len(edges7)"
   ]
  },
  {
   "cell_type": "markdown",
   "id": "homeless-hawaii",
   "metadata": {},
   "source": [
    "### Adjacency List"
   ]
  },
  {
   "cell_type": "code",
   "execution_count": null,
   "id": "promising-atlantic",
   "metadata": {},
   "outputs": [],
   "source": [
    "class Graph:\n",
    "    def __init__(self, num_nodes, edges):\n",
    "        self.data = [[] for _ in range(num_nodes)]\n",
    "        for v1, v2 in edges:\n",
    "            self.data[v1].append(v2)\n",
    "            self.data[v2].append(v1)\n",
    "            \n",
    "    def __repr__(self):\n",
    "        return \"\\n\".join([\"{} : {}\".format(i, neighbors) for (i, neighbors) in enumerate(self.data)])\n",
    "\n",
    "    def __str__(self):\n",
    "        return repr(self)"
   ]
  },
  {
   "cell_type": "code",
   "execution_count": null,
   "id": "buried-brake",
   "metadata": {},
   "outputs": [],
   "source": [
    "g1 = Graph(num_nodes1, edges1)"
   ]
  },
  {
   "cell_type": "code",
   "execution_count": null,
   "id": "honey-tension",
   "metadata": {},
   "outputs": [],
   "source": [
    "g1"
   ]
  },
  {
   "cell_type": "markdown",
   "id": "caroline-smile",
   "metadata": {},
   "source": [
    "### Adjacency Matrix"
   ]
  },
  {
   "cell_type": "code",
   "execution_count": null,
   "id": "voluntary-border",
   "metadata": {},
   "outputs": [],
   "source": []
  },
  {
   "cell_type": "code",
   "execution_count": null,
   "id": "fantastic-vacation",
   "metadata": {},
   "outputs": [],
   "source": []
  },
  {
   "cell_type": "markdown",
   "id": "fifty-portland",
   "metadata": {},
   "source": [
    "### Breadth First Search\n",
    "\n",
    "Complexity $O(m + n)$"
   ]
  },
  {
   "cell_type": "code",
   "execution_count": null,
   "id": "hairy-technique",
   "metadata": {},
   "outputs": [],
   "source": [
    "def bfs(graph, source):\n",
    "    visited = [False] * len(graph.data)\n",
    "    queue = []\n",
    "    \n",
    "    visited[source] = True    \n",
    "    queue.append(source)\n",
    "    i = 0\n",
    "    \n",
    "    while i < len(queue):\n",
    "        for v in graph.data[queue[i]]:\n",
    "            if not visited[v]:\n",
    "                visited[v] = True\n",
    "                queue.append(v)\n",
    "        i += 1\n",
    "        \n",
    "    return queue"
   ]
  },
  {
   "cell_type": "code",
   "execution_count": null,
   "id": "deluxe-trust",
   "metadata": {},
   "outputs": [],
   "source": [
    "bfs(g1, 3)"
   ]
  },
  {
   "cell_type": "code",
   "execution_count": null,
   "id": "immune-rider",
   "metadata": {},
   "outputs": [],
   "source": []
  },
  {
   "cell_type": "code",
   "execution_count": null,
   "id": "compatible-ceramic",
   "metadata": {},
   "outputs": [],
   "source": []
  },
  {
   "cell_type": "markdown",
   "id": "active-simon",
   "metadata": {},
   "source": [
    "### Depth First Search"
   ]
  },
  {
   "cell_type": "code",
   "execution_count": null,
   "id": "august-passage",
   "metadata": {},
   "outputs": [],
   "source": [
    "def dfs(graph, source):\n",
    "    visited = [False] * len(graph.data)\n",
    "    stack = [source]\n",
    "    result = []\n",
    "    \n",
    "    while len(stack) > 0:\n",
    "        current = stack.pop()\n",
    "        if not visited[current]:\n",
    "            result.append(current)\n",
    "            visited[current] = True\n",
    "            for v in graph.data[current]:\n",
    "                stack.append(v)\n",
    "                \n",
    "    return result"
   ]
  },
  {
   "cell_type": "code",
   "execution_count": null,
   "id": "coordinate-public",
   "metadata": {},
   "outputs": [],
   "source": [
    "dfs(g1, 0)"
   ]
  },
  {
   "cell_type": "code",
   "execution_count": null,
   "id": "funded-insert",
   "metadata": {},
   "outputs": [],
   "source": []
  },
  {
   "cell_type": "code",
   "execution_count": null,
   "id": "compliant-passing",
   "metadata": {},
   "outputs": [],
   "source": []
  },
  {
   "cell_type": "markdown",
   "id": "lasting-directory",
   "metadata": {},
   "source": [
    "### Directed and Weighted Graph"
   ]
  },
  {
   "cell_type": "code",
   "execution_count": null,
   "id": "olympic-bridge",
   "metadata": {},
   "outputs": [],
   "source": [
    "class Graph:\n",
    "    def __init__(self, num_nodes, edges, directed=False):\n",
    "        self.data = [[] for _ in range(num_nodes)]\n",
    "        self.weight = [[] for _ in range(num_nodes)]\n",
    "        \n",
    "        self.directed = directed\n",
    "        self.weighted = len(edges) > 0 and len(edges[0]) == 3\n",
    "            \n",
    "        for e in edges:\n",
    "            self.data[e[0]].append(e[1])\n",
    "            if self.weighted:\n",
    "                self.weight[e[0]].append(e[2])\n",
    "            \n",
    "            if not directed:\n",
    "                self.data[e[1]].append(e[0])\n",
    "                if self.weighted:\n",
    "                    self.data[e[1]].append(e[2])\n",
    "                \n",
    "    def __repr__(self):\n",
    "        result = \"\"\n",
    "        for i in range(len(self.data)):\n",
    "            pairs = list(zip(self.data[i], self.weight[i]))\n",
    "            result += \"{}: {}\\n\".format(i, pairs)\n",
    "        return result\n",
    "\n",
    "    def __str__(self):\n",
    "        return repr(self)"
   ]
  },
  {
   "cell_type": "code",
   "execution_count": null,
   "id": "monthly-vatican",
   "metadata": {},
   "outputs": [],
   "source": [
    "g7 = Graph(num_nodes7, edges7, directed=True)"
   ]
  },
  {
   "cell_type": "code",
   "execution_count": null,
   "id": "entertaining-soundtrack",
   "metadata": {},
   "outputs": [],
   "source": [
    "g7"
   ]
  },
  {
   "cell_type": "code",
   "execution_count": null,
   "id": "related-senator",
   "metadata": {},
   "outputs": [],
   "source": [
    "g7.weight"
   ]
  },
  {
   "cell_type": "markdown",
   "id": "confident-rochester",
   "metadata": {},
   "source": [
    "### Shortest Path - Dijkstra's Algorithm"
   ]
  },
  {
   "cell_type": "code",
   "execution_count": null,
   "id": "pursuant-bedroom",
   "metadata": {},
   "outputs": [],
   "source": [
    "def update_distances(graph, current, distance, parent=None):\n",
    "    \"\"\"Update the distances of the current node's neighbors\"\"\"\n",
    "    neighbors = graph.data[current]\n",
    "    weights = graph.weight[current]\n",
    "    for i, node in enumerate(neighbors):\n",
    "        weight = weights[i]\n",
    "        if distance[current] + weight < distance[node]:\n",
    "            distance[node] = distance[current] + weight\n",
    "            if parent:\n",
    "                parent[node] = current\n",
    "\n",
    "def pick_next_node(distance, visited):\n",
    "    \"\"\"Pick the next univisited node at the smallest distance\"\"\"\n",
    "    min_distance = float('inf')\n",
    "    min_node = None\n",
    "    for node in range(len(distance)):\n",
    "        if not visited[node] and distance[node] < min_distance:\n",
    "            min_node = node\n",
    "            min_distance = distance[node]\n",
    "    return min_node\n",
    "        \n",
    "def shortest_path(graph, source, dest):\n",
    "    \"\"\"Find the length of the shortest path between source and destination\"\"\"\n",
    "    visited = [False] * len(graph.data)\n",
    "    distance = [float('inf')] * len(graph.data)\n",
    "    parent = [None] * len(graph.data)\n",
    "    queue = []\n",
    "    idx = 0\n",
    "    \n",
    "    queue.append(source)\n",
    "    distance[source] = 0\n",
    "    visited[source] = True\n",
    "    \n",
    "    while idx < len(queue) and not visited[dest]:\n",
    "        current = queue[idx]\n",
    "        update_distances(graph, current, distance, parent)\n",
    "        \n",
    "        next_node = pick_next_node(distance, visited)\n",
    "        if next_node is not None:\n",
    "            visited[next_node] = True\n",
    "            queue.append(next_node)\n",
    "        idx += 1\n",
    "        \n",
    "    return distance[dest], distance, parent"
   ]
  },
  {
   "cell_type": "markdown",
   "id": "celtic-tension",
   "metadata": {},
   "source": [
    "<img src=\"https://i.imgur.com/Zn5cUkO.png\" width=\"400\">"
   ]
  },
  {
   "cell_type": "code",
   "execution_count": null,
   "id": "grand-barbados",
   "metadata": {},
   "outputs": [],
   "source": [
    "shortest_path(g7, 0, 5)"
   ]
  },
  {
   "cell_type": "code",
   "execution_count": null,
   "id": "quick-header",
   "metadata": {},
   "outputs": [],
   "source": []
  },
  {
   "cell_type": "code",
   "execution_count": null,
   "id": "wicked-desert",
   "metadata": {},
   "outputs": [],
   "source": []
  },
  {
   "cell_type": "code",
   "execution_count": null,
   "id": "rocky-ready",
   "metadata": {},
   "outputs": [],
   "source": []
  },
  {
   "cell_type": "code",
   "execution_count": null,
   "id": "labeled-watch",
   "metadata": {},
   "outputs": [],
   "source": []
  },
  {
   "cell_type": "code",
   "execution_count": null,
   "id": "advanced-decrease",
   "metadata": {},
   "outputs": [],
   "source": [
    "import jovian"
   ]
  },
  {
   "cell_type": "code",
   "execution_count": null,
   "id": "injured-juice",
   "metadata": {},
   "outputs": [],
   "source": [
    "jovian.commit()"
   ]
  },
  {
   "cell_type": "code",
   "execution_count": null,
   "id": "international-motor",
   "metadata": {},
   "outputs": [],
   "source": []
  }
 ],
 "metadata": {
  "interpreter": {
   "hash": "31f2aee4e71d21fbe5cf8b01ff0e069b9275f58929596ceb00d14d90e3e16cd6"
  },
  "kernelspec": {
   "display_name": "Python 3.8.9 64-bit",
   "language": "python",
   "name": "python3"
  },
  "language_info": {
   "codemirror_mode": {
    "name": "ipython",
    "version": 3
   },
   "file_extension": ".py",
   "mimetype": "text/x-python",
   "name": "python",
   "nbconvert_exporter": "python",
   "pygments_lexer": "ipython3",
   "version": "3.8.9"
  }
 },
 "nbformat": 4,
 "nbformat_minor": 5
}
